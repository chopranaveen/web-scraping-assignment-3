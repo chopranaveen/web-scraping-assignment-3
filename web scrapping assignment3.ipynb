{
 "cells": [
  {
   "cell_type": "code",
   "execution_count": 1,
   "id": "a23991a1",
   "metadata": {},
   "outputs": [
    {
     "name": "stdout",
     "output_type": "stream",
     "text": [
      "Requirement already satisfied: bs4 in c:\\users\\naveen chopra\\anaconda3\\lib\\site-packages (0.0.1)\n",
      "Requirement already satisfied: beautifulsoup4 in c:\\users\\naveen chopra\\anaconda3\\lib\\site-packages (from bs4) (4.11.1)\n",
      "Requirement already satisfied: soupsieve>1.2 in c:\\users\\naveen chopra\\anaconda3\\lib\\site-packages (from beautifulsoup4->bs4) (2.3.1)\n",
      "Requirement already satisfied: requests in c:\\users\\naveen chopra\\anaconda3\\lib\\site-packages (2.27.1)\n",
      "Requirement already satisfied: idna<4,>=2.5 in c:\\users\\naveen chopra\\anaconda3\\lib\\site-packages (from requests) (3.3)\n",
      "Requirement already satisfied: urllib3<1.27,>=1.21.1 in c:\\users\\naveen chopra\\anaconda3\\lib\\site-packages (from requests) (1.26.9)\n",
      "Requirement already satisfied: certifi>=2017.4.17 in c:\\users\\naveen chopra\\anaconda3\\lib\\site-packages (from requests) (2021.10.8)\n",
      "Requirement already satisfied: charset-normalizer~=2.0.0 in c:\\users\\naveen chopra\\anaconda3\\lib\\site-packages (from requests) (2.0.4)\n"
     ]
    }
   ],
   "source": [
    "!pip install bs4\n",
    "!pip install requests"
   ]
  },
  {
   "cell_type": "code",
   "execution_count": 18,
   "id": "64d977a8",
   "metadata": {},
   "outputs": [],
   "source": [
    "import selenium \n",
    "import pandas as pd\n",
    "from selenium import webdriver\n",
    "import warnings\n",
    "warnings.filterwarnings('ignore')\n",
    "from selenium.webdriver.common.by import By\n",
    "from selenium.common.exceptions import StaleElementReferenceException,NoSuchElementException\n",
    "import time\n",
    "from PIL import Image\n",
    "import io\n",
    "import re \n",
    "import requests\n",
    "import urllib.request\n",
    "import os\n"
   ]
  },
  {
   "cell_type": "markdown",
   "id": "dd7438b8",
   "metadata": {},
   "source": [
    "1. Write a python program which searches all the product under a particular product from www.amazon.in. \n",
    "The product to be searched will be taken as input from user. For e.g. If user input is ‘guitar’. Then search \n",
    "for guitar"
   ]
  },
  {
   "cell_type": "code",
   "execution_count": 17,
   "id": "076150c9",
   "metadata": {},
   "outputs": [],
   "source": [
    "driver = webdriver.Chrome(r\"C:\\Users\\Naveen chopra\\Downloads\\chromedriver.exe\")"
   ]
  },
  {
   "cell_type": "code",
   "execution_count": 18,
   "id": "2381c744",
   "metadata": {},
   "outputs": [],
   "source": [
    "driver.get('https://www.amazon.in/')"
   ]
  },
  {
   "cell_type": "code",
   "execution_count": null,
   "id": "cdf26b2c",
   "metadata": {},
   "outputs": [],
   "source": [
    "a=input(\"enter the product: \")"
   ]
  },
  {
   "cell_type": "markdown",
   "id": "27de4e3c",
   "metadata": {},
   "source": [
    "2. In the above question, now scrape the following details of each product listed in first 3 pages of your \n",
    "search results and save it in a data frame and csv. In case if any product has less than 3 pages in search \n",
    "results then scrape all the products available under that product name. Details to be scraped are: \"Brand \n",
    "Name\", \"Name of the Product\", \"Price\", \"Return/Exchange\", \"Expected Delivery\", \"Availability\" and \n",
    "“Product URL”. In case, if any of the details are missing for any of the product then replace it by “-“.\n"
   ]
  },
  {
   "cell_type": "code",
   "execution_count": 19,
   "id": "fe61e364",
   "metadata": {},
   "outputs": [],
   "source": [
    "product1=driver.find_element(By.XPATH,'/html/body/div[1]/header/div/div[1]/div[2]/div/form/div[2]/div[1]/input')\n",
    "product1.send_keys(\"guitar\")\n"
   ]
  },
  {
   "cell_type": "code",
   "execution_count": 20,
   "id": "b5f103fa",
   "metadata": {},
   "outputs": [],
   "source": [
    "search=driver.find_element(By.XPATH,\"/html/body/div[1]/header/div/div[1]/div[2]/div/form/div[3]/div/span/input\")\n",
    "search.click()\n",
    "time.sleep(2)"
   ]
  },
  {
   "cell_type": "code",
   "execution_count": 21,
   "id": "044a6f89",
   "metadata": {},
   "outputs": [],
   "source": [
    "product_link=[]\n",
    "\n",
    "start=0\n",
    "end=3\n",
    "\n",
    "for page in range(start,end):\n",
    "    url=driver.find_elements(By.XPATH,'//a[@class=\"a-link-normal s-no-outline\"]')\n",
    "    for i in url:\n",
    "        product_link.append(i.get_attribute('href'))\n",
    "    next_button=driver.find_elements(By.XPATH,'//a[@class=\"s-pagination-item s-pagination-next s-pagination-button s-pagination-separator\"]')\n"
   ]
  },
  {
   "cell_type": "code",
   "execution_count": 22,
   "id": "731ae74b",
   "metadata": {},
   "outputs": [
    {
     "data": {
      "text/plain": [
       "153"
      ]
     },
     "execution_count": 22,
     "metadata": {},
     "output_type": "execute_result"
    }
   ],
   "source": [
    "len(product_link)"
   ]
  },
  {
   "cell_type": "code",
   "execution_count": 26,
   "id": "d9fe3a37",
   "metadata": {},
   "outputs": [],
   "source": [
    "NP=[]\n",
    "\n",
    "for i in product_link:\n",
    "    driver.get(i)\n",
    "    try:\n",
    "        product=driver.find_element(By.XPATH,'//span[@class=\"a-size-base-plus a-color-base a-text-normal\"]')\n",
    "        NP.append(product.text)\n",
    "    except NoSuchElementException :\n",
    "        NP.append('-')\n",
    "        "
   ]
  },
  {
   "cell_type": "code",
   "execution_count": 27,
   "id": "1e758fe9",
   "metadata": {},
   "outputs": [
    {
     "data": {
      "text/plain": [
       "153"
      ]
     },
     "execution_count": 27,
     "metadata": {},
     "output_type": "execute_result"
    }
   ],
   "source": [
    "len(NP)"
   ]
  },
  {
   "cell_type": "code",
   "execution_count": 28,
   "id": "0d73649a",
   "metadata": {},
   "outputs": [],
   "source": [
    "BN=[]\n",
    "\n",
    "for i in product_link:\n",
    "    driver.get(i)\n",
    "    try:\n",
    "        brand=driver.find_element(By.XPATH,'//span[@class=\"a-size-base po-break-word\"]')\n",
    "        BN.append(brand.text)\n",
    "    except NoSuchElementException :\n",
    "        BN.append('Not Find')\n",
    "        \n",
    "    "
   ]
  },
  {
   "cell_type": "code",
   "execution_count": 29,
   "id": "7e01d65a",
   "metadata": {},
   "outputs": [
    {
     "data": {
      "text/plain": [
       "153"
      ]
     },
     "execution_count": 29,
     "metadata": {},
     "output_type": "execute_result"
    }
   ],
   "source": [
    "len(BN)"
   ]
  },
  {
   "cell_type": "code",
   "execution_count": 30,
   "id": "68762d54",
   "metadata": {},
   "outputs": [],
   "source": [
    "RE=[]\n",
    "\n",
    "for i in product_link:\n",
    "    driver.get(i)\n",
    "    try:\n",
    "        return_exchange=driver.find_element(By.XPATH,'//span[@class=\"a-size-small a-color-link a-text-normal\"]')\n",
    "        RE.append(return_exchange.text)\n",
    "    except NoSuchElementException :\n",
    "        RE.append('-')\n",
    "        "
   ]
  },
  {
   "cell_type": "code",
   "execution_count": 31,
   "id": "1d150480",
   "metadata": {},
   "outputs": [
    {
     "data": {
      "text/plain": [
       "153"
      ]
     },
     "execution_count": 31,
     "metadata": {},
     "output_type": "execute_result"
    }
   ],
   "source": [
    "len(RE)"
   ]
  },
  {
   "cell_type": "code",
   "execution_count": 32,
   "id": "45241b0d",
   "metadata": {},
   "outputs": [],
   "source": [
    "ED=[]\n",
    "for url in product_link:\n",
    "    driver.get(url)\n",
    "    time.sleep(2)\n",
    "    try:\n",
    "        Expected_delivery=driver.find_element(By.XPATH,\"//span[@class='a-text-bold']\")\n",
    "        ED.append(Expected_delivery.text)\n",
    "    except NoSuchElementException:\n",
    "        ED.append(\"Not find\")\n",
    "        "
   ]
  },
  {
   "cell_type": "code",
   "execution_count": 33,
   "id": "b7cfad18",
   "metadata": {},
   "outputs": [
    {
     "data": {
      "text/plain": [
       "153"
      ]
     },
     "execution_count": 33,
     "metadata": {},
     "output_type": "execute_result"
    }
   ],
   "source": [
    "len(ED)"
   ]
  },
  {
   "cell_type": "code",
   "execution_count": 36,
   "id": "2ae9280b",
   "metadata": {},
   "outputs": [],
   "source": [
    "AV=[]\n",
    "for url in product_link:\n",
    "    driver.get(url)\n",
    "    time.sleep(2)\n",
    "    \n",
    "    try:\n",
    "        Availability=driver.find_element(By.XPATH,\"//span[@class='a-size-medium a-color-success']\")\n",
    "        AV.append(Availability.text)\n",
    "    except NoSuchElementException:\n",
    "        AV.append(\"Not find\")\n",
    "        "
   ]
  },
  {
   "cell_type": "code",
   "execution_count": 37,
   "id": "0eb6b031",
   "metadata": {},
   "outputs": [
    {
     "data": {
      "text/plain": [
       "153"
      ]
     },
     "execution_count": 37,
     "metadata": {},
     "output_type": "execute_result"
    }
   ],
   "source": [
    "len(AV)"
   ]
  },
  {
   "cell_type": "code",
   "execution_count": 23,
   "id": "35851195",
   "metadata": {},
   "outputs": [],
   "source": [
    "Price=[]\n",
    "for i in product_link:\n",
    "    driver.get(i)\n",
    "    time.sleep(2)\n",
    "    \n",
    "    try:\n",
    "        P=driver.find_element(By.XPATH,'//span[@class=\"a-price-whole\"]')\n",
    "        Price.append(P.text)\n",
    "    except NoSuchElementException:\n",
    "        Price.append(\"Not find\")\n",
    "        "
   ]
  },
  {
   "cell_type": "code",
   "execution_count": 24,
   "id": "7f889336",
   "metadata": {},
   "outputs": [
    {
     "data": {
      "text/plain": [
       "153"
      ]
     },
     "execution_count": 24,
     "metadata": {},
     "output_type": "execute_result"
    }
   ],
   "source": [
    "len(Price)"
   ]
  },
  {
   "cell_type": "code",
   "execution_count": 39,
   "id": "b3b9151b",
   "metadata": {},
   "outputs": [
    {
     "data": {
      "text/html": [
       "<div>\n",
       "<style scoped>\n",
       "    .dataframe tbody tr th:only-of-type {\n",
       "        vertical-align: middle;\n",
       "    }\n",
       "\n",
       "    .dataframe tbody tr th {\n",
       "        vertical-align: top;\n",
       "    }\n",
       "\n",
       "    .dataframe thead th {\n",
       "        text-align: right;\n",
       "    }\n",
       "</style>\n",
       "<table border=\"1\" class=\"dataframe\">\n",
       "  <thead>\n",
       "    <tr style=\"text-align: right;\">\n",
       "      <th></th>\n",
       "      <th>BRAND</th>\n",
       "      <th>PRODUCT NAME</th>\n",
       "      <th>PRICE</th>\n",
       "      <th>RETURN/EXCHANGE</th>\n",
       "      <th>AVAILABILITY</th>\n",
       "      <th>EXPECTED DELIVERY</th>\n",
       "      <th>Product Link</th>\n",
       "    </tr>\n",
       "  </thead>\n",
       "  <tbody>\n",
       "    <tr>\n",
       "      <th>0</th>\n",
       "      <td>Not Find</td>\n",
       "      <td>Boya ByM1 Auxiliary Omnidirectional Lavalier C...</td>\n",
       "      <td>775</td>\n",
       "      <td>-</td>\n",
       "      <td>Not find</td>\n",
       "      <td>Not find</td>\n",
       "      <td>https://www.amazon.in/Musical-Instruments/b/re...</td>\n",
       "    </tr>\n",
       "    <tr>\n",
       "      <th>1</th>\n",
       "      <td>Intern</td>\n",
       "      <td>-</td>\n",
       "      <td>2,099</td>\n",
       "      <td>Free Delivery</td>\n",
       "      <td>In stock</td>\n",
       "      <td>Monday, 22 May</td>\n",
       "      <td>https://www.amazon.in/Intern-INT-38C-Acoustic-...</td>\n",
       "    </tr>\n",
       "    <tr>\n",
       "      <th>2</th>\n",
       "      <td>YAMAHA</td>\n",
       "      <td>-</td>\n",
       "      <td>7,200</td>\n",
       "      <td>Free Delivery</td>\n",
       "      <td>In stock</td>\n",
       "      <td>Monday, 22 May</td>\n",
       "      <td>https://www.amazon.in/Yamaha-F280-Acoustic-Gui...</td>\n",
       "    </tr>\n",
       "    <tr>\n",
       "      <th>3</th>\n",
       "      <td>JUAREZ</td>\n",
       "      <td>-</td>\n",
       "      <td>1,999</td>\n",
       "      <td>Free Delivery</td>\n",
       "      <td>In stock</td>\n",
       "      <td>Monday, 22 May</td>\n",
       "      <td>https://www.amazon.in/JUAREZ-JRZ38C-Acoustic-S...</td>\n",
       "    </tr>\n",
       "    <tr>\n",
       "      <th>4</th>\n",
       "      <td>JUAREZ</td>\n",
       "      <td>-</td>\n",
       "      <td>1,999</td>\n",
       "      <td>Free Delivery</td>\n",
       "      <td>In stock</td>\n",
       "      <td>Monday, 22 May</td>\n",
       "      <td>https://www.amazon.in/JUAREZ-JRZ38C-Acoustic-S...</td>\n",
       "    </tr>\n",
       "    <tr>\n",
       "      <th>...</th>\n",
       "      <td>...</td>\n",
       "      <td>...</td>\n",
       "      <td>...</td>\n",
       "      <td>...</td>\n",
       "      <td>...</td>\n",
       "      <td>...</td>\n",
       "      <td>...</td>\n",
       "    </tr>\n",
       "    <tr>\n",
       "      <th>148</th>\n",
       "      <td>YAMAHA</td>\n",
       "      <td>-</td>\n",
       "      <td>8,982</td>\n",
       "      <td>Free Delivery</td>\n",
       "      <td>In stock</td>\n",
       "      <td>Monday, 22 May</td>\n",
       "      <td>https://www.amazon.in/Yamaha-F310-6-Strings-Ac...</td>\n",
       "    </tr>\n",
       "    <tr>\n",
       "      <th>149</th>\n",
       "      <td>blueberry</td>\n",
       "      <td>-</td>\n",
       "      <td>2,795</td>\n",
       "      <td>Free Delivery</td>\n",
       "      <td>In stock</td>\n",
       "      <td>Sunday, 21 May</td>\n",
       "      <td>https://www.amazon.in/Blueberry-VIP-300-30Inch...</td>\n",
       "    </tr>\n",
       "    <tr>\n",
       "      <th>150</th>\n",
       "      <td>Medellin</td>\n",
       "      <td>-</td>\n",
       "      <td>2,349</td>\n",
       "      <td>Free Delivery</td>\n",
       "      <td>In stock</td>\n",
       "      <td>Tuesday, 23 May</td>\n",
       "      <td>https://www.amazon.in/Medellin-Acoustic-Guitar...</td>\n",
       "    </tr>\n",
       "    <tr>\n",
       "      <th>151</th>\n",
       "      <td>JUAREZ</td>\n",
       "      <td>-</td>\n",
       "      <td>2,665</td>\n",
       "      <td>Free Delivery</td>\n",
       "      <td>In stock</td>\n",
       "      <td>Monday, 22 May</td>\n",
       "      <td>https://www.amazon.in/Juarez-Acoustic-Cutaway-...</td>\n",
       "    </tr>\n",
       "    <tr>\n",
       "      <th>152</th>\n",
       "      <td>Intern</td>\n",
       "      <td>-</td>\n",
       "      <td>2,319</td>\n",
       "      <td>Free Delivery</td>\n",
       "      <td>In stock</td>\n",
       "      <td>Tuesday, 23 May</td>\n",
       "      <td>https://www.amazon.in/Intern-INT-38C-NT-G-Guit...</td>\n",
       "    </tr>\n",
       "  </tbody>\n",
       "</table>\n",
       "<p>153 rows × 7 columns</p>\n",
       "</div>"
      ],
      "text/plain": [
       "         BRAND                                       PRODUCT NAME  PRICE  \\\n",
       "0     Not Find  Boya ByM1 Auxiliary Omnidirectional Lavalier C...    775   \n",
       "1       Intern                                                  -  2,099   \n",
       "2       YAMAHA                                                  -  7,200   \n",
       "3       JUAREZ                                                  -  1,999   \n",
       "4       JUAREZ                                                  -  1,999   \n",
       "..         ...                                                ...    ...   \n",
       "148     YAMAHA                                                  -  8,982   \n",
       "149  blueberry                                                  -  2,795   \n",
       "150   Medellin                                                  -  2,349   \n",
       "151     JUAREZ                                                  -  2,665   \n",
       "152     Intern                                                  -  2,319   \n",
       "\n",
       "    RETURN/EXCHANGE AVAILABILITY EXPECTED DELIVERY  \\\n",
       "0                 -     Not find          Not find   \n",
       "1     Free Delivery     In stock    Monday, 22 May   \n",
       "2     Free Delivery     In stock    Monday, 22 May   \n",
       "3     Free Delivery     In stock    Monday, 22 May   \n",
       "4     Free Delivery     In stock    Monday, 22 May   \n",
       "..              ...          ...               ...   \n",
       "148   Free Delivery     In stock    Monday, 22 May   \n",
       "149   Free Delivery     In stock    Sunday, 21 May   \n",
       "150   Free Delivery     In stock   Tuesday, 23 May   \n",
       "151   Free Delivery     In stock    Monday, 22 May   \n",
       "152   Free Delivery     In stock   Tuesday, 23 May   \n",
       "\n",
       "                                          Product Link  \n",
       "0    https://www.amazon.in/Musical-Instruments/b/re...  \n",
       "1    https://www.amazon.in/Intern-INT-38C-Acoustic-...  \n",
       "2    https://www.amazon.in/Yamaha-F280-Acoustic-Gui...  \n",
       "3    https://www.amazon.in/JUAREZ-JRZ38C-Acoustic-S...  \n",
       "4    https://www.amazon.in/JUAREZ-JRZ38C-Acoustic-S...  \n",
       "..                                                 ...  \n",
       "148  https://www.amazon.in/Yamaha-F310-6-Strings-Ac...  \n",
       "149  https://www.amazon.in/Blueberry-VIP-300-30Inch...  \n",
       "150  https://www.amazon.in/Medellin-Acoustic-Guitar...  \n",
       "151  https://www.amazon.in/Juarez-Acoustic-Cutaway-...  \n",
       "152  https://www.amazon.in/Intern-INT-38C-NT-G-Guit...  \n",
       "\n",
       "[153 rows x 7 columns]"
      ]
     },
     "execution_count": 39,
     "metadata": {},
     "output_type": "execute_result"
    }
   ],
   "source": [
    "import pandas as pd\n",
    "df=pd.DataFrame({'BRAND':BN,'PRODUCT NAME':NP,'PRICE':Price,'RETURN/EXCHANGE':RE,'AVAILABILITY':AV,'EXPECTED DELIVERY':ED,'Product Link':product_link})\n",
    "df"
   ]
  },
  {
   "cell_type": "markdown",
   "id": "a2366bce",
   "metadata": {},
   "source": [
    "3. Write a python program to access the search bar and search button on images.google.com and scrape 10\n",
    "images each for keywords ‘fruits’, ‘cars’ and ‘Machine Learning’, ‘Guitar’, ‘Cakes’"
   ]
  },
  {
   "cell_type": "code",
   "execution_count": 12,
   "id": "170fbfb4",
   "metadata": {},
   "outputs": [],
   "source": [
    "driver=webdriver.Chrome(\"Chromedriver.exe\")"
   ]
  },
  {
   "cell_type": "code",
   "execution_count": 13,
   "id": "74220336",
   "metadata": {},
   "outputs": [],
   "source": [
    "driver.get(\"https://www.google.com\")"
   ]
  },
  {
   "cell_type": "code",
   "execution_count": 14,
   "id": "28eec1fd",
   "metadata": {},
   "outputs": [],
   "source": [
    "images=driver.find_element(By.XPATH,\"/html/body/div[1]/div[1]/div/div/div/div[1]/div/div[2]/a\")\n",
    "images.click()"
   ]
  },
  {
   "cell_type": "code",
   "execution_count": 15,
   "id": "46f8d888",
   "metadata": {},
   "outputs": [],
   "source": [
    "enter=driver.find_element(By.XPATH,'/html/body/div[1]/div[3]/form/div[1]/div[1]/div[1]/div/div[2]/textarea')\n",
    "enter.send_keys('cars')"
   ]
  },
  {
   "cell_type": "code",
   "execution_count": 16,
   "id": "704d429d",
   "metadata": {},
   "outputs": [],
   "source": [
    "search=driver.find_element(By.XPATH,'/html/body/div[1]/div[3]/form/div[1]/div[1]/div[1]/button/div')\n",
    "search.click()"
   ]
  },
  {
   "cell_type": "code",
   "execution_count": 19,
   "id": "4f4f4db2",
   "metadata": {},
   "outputs": [
    {
     "name": "stdout",
     "output_type": "stream",
     "text": [
      "Downloading 19 of 10 images\n"
     ]
    },
    {
     "ename": "IndexError",
     "evalue": "list index out of range",
     "output_type": "error",
     "traceback": [
      "\u001b[1;31m---------------------------------------------------------------------------\u001b[0m",
      "\u001b[1;31mIndexError\u001b[0m                                Traceback (most recent call last)",
      "Input \u001b[1;32mIn [19]\u001b[0m, in \u001b[0;36m<cell line: 17>\u001b[1;34m()\u001b[0m\n\u001b[0;32m     15\u001b[0m         breakBy\u001b[38;5;241m.\u001b[39mXPATH,\n\u001b[0;32m     16\u001b[0m \u001b[38;5;28mprint\u001b[39m(\u001b[38;5;124m'\u001b[39m\u001b[38;5;124mDownloading \u001b[39m\u001b[38;5;132;01m{0}\u001b[39;00m\u001b[38;5;124m of \u001b[39m\u001b[38;5;132;01m{1}\u001b[39;00m\u001b[38;5;124m images\u001b[39m\u001b[38;5;124m'\u001b[39m\u001b[38;5;241m.\u001b[39mformat(i,\u001b[38;5;241m10\u001b[39m))\n\u001b[1;32m---> 17\u001b[0m response\u001b[38;5;241m=\u001b[39mrequests\u001b[38;5;241m.\u001b[39mget(\u001b[43mimg_urls\u001b[49m\u001b[43m[\u001b[49m\u001b[43mi\u001b[49m\u001b[43m]\u001b[49m)\n\u001b[0;32m     18\u001b[0m file\u001b[38;5;241m=\u001b[39m\u001b[38;5;28mopen\u001b[39m(\u001b[38;5;124mr\u001b[39m\u001b[38;5;124m\"\u001b[39m\u001b[38;5;124mD:\u001b[39m\u001b[38;5;124m\\\u001b[39m\u001b[38;5;124mfliprobo internship\u001b[39m\u001b[38;5;124m\"\u001b[39m\u001b[38;5;241m+\u001b[39m\u001b[38;5;28mstr\u001b[39m(i)\u001b[38;5;241m+\u001b[39m\u001b[38;5;124m\"\u001b[39m\u001b[38;5;124m.jpg\u001b[39m\u001b[38;5;124m\"\u001b[39m,\u001b[38;5;124m\"\u001b[39m\u001b[38;5;124mwb\u001b[39m\u001b[38;5;124m\"\u001b[39m)\n\u001b[0;32m     19\u001b[0m file\u001b[38;5;241m.\u001b[39mwrite(response\u001b[38;5;241m.\u001b[39mcontent)\n",
      "\u001b[1;31mIndexError\u001b[0m: list index out of range"
     ]
    }
   ],
   "source": [
    "for i in range(20):\n",
    "    driver.execute_script('window.scrollBy(0,1000)')\n",
    "images = driver.find_elements(By.XPATH,'//div[@class=\" bRMDJf islir\"]')\n",
    "\n",
    "img_urls=[]\n",
    "img_data=[]\n",
    "for image in images:\n",
    "    source= image.get_attribute('src')\n",
    "    if source is not None:\n",
    "        if(source[0:4] == 'http'):\n",
    "            img_urls.append(source)\n",
    "            \n",
    "for i in range(len(img_urls)):\n",
    "    if i>10:\n",
    "        breakBy.XPATH,\n",
    "print('Downloading {0} of {1} images'.format(i,10))\n",
    "response=requests.get(img_urls[i])\n",
    "file=open(r\"D:\\fliprobo internship\"+str(i)+\".jpg\",\"wb\")\n",
    "file.write(response.content)    \n"
   ]
  },
  {
   "cell_type": "markdown",
   "id": "00e322d0",
   "metadata": {},
   "source": [
    "4. Write a python program to search for a smartphone(e.g.: Oneplus Nord, pixel 4A, etc.) on\n",
    "www.flipkart.com and\n",
    "scrape following details for all the search results displayed on 1st page. Details to be \n",
    "scraped: “Brand Name”, “Smartphone name”, “Colour”, “RAM”, “Storage(ROM)”, “Primary Camera”, \n",
    "“Secondary Camera”, “Display Size”, “Battery Capacity”, “Price”, “Product URL”. Incase if any of the \n",
    "details is missing then replace it by “- “. Save your results in a dataframe and CSV."
   ]
  },
  {
   "cell_type": "code",
   "execution_count": 23,
   "id": "f595e5e1",
   "metadata": {},
   "outputs": [],
   "source": [
    "import selenium\n",
    "import pandas as pd\n",
    "from selenium import webdriver\n",
    "import warnings\n",
    "warnings.filterwarnings('ignore')\n",
    "from selenium.common.exceptions import StaleElementReferenceException, NoSuchElementException\n",
    "from selenium.webdriver.common.by import By\n",
    "from selenium.webdriver.common.keys import Keys\n",
    "import time"
   ]
  },
  {
   "cell_type": "code",
   "execution_count": 28,
   "id": "94d94b77",
   "metadata": {},
   "outputs": [],
   "source": [
    "driver=webdriver.Chrome(\"chromedriver.exe\")"
   ]
  },
  {
   "cell_type": "code",
   "execution_count": 29,
   "id": "17fdfb41",
   "metadata": {},
   "outputs": [],
   "source": [
    "driver.get('https://www.flipkart.com')"
   ]
  },
  {
   "cell_type": "code",
   "execution_count": 30,
   "id": "1680bc03",
   "metadata": {},
   "outputs": [],
   "source": [
    "enter=driver.find_element(By.XPATH,'/html/body/div[1]/div/div[1]/div[1]/div[2]/div[2]/form/div/div/input')\n",
    "enter.send_keys('smartphones')\n",
    "\n",
    "search=driver.find_element(By.XPATH,'/html/body/div[1]/div/div[1]/div[1]/div[2]/div[2]/form/div/button')\n",
    "search.click()\n"
   ]
  },
  {
   "cell_type": "code",
   "execution_count": 31,
   "id": "78887b34",
   "metadata": {},
   "outputs": [
    {
     "data": {
      "text/plain": [
       "24"
      ]
     },
     "execution_count": 31,
     "metadata": {},
     "output_type": "execute_result"
    }
   ],
   "source": [
    "link=[]\n",
    "\n",
    "url=driver.find_elements(By.XPATH,'//a[@class=\"_1fQZEK\"]')\n",
    "for i in url:\n",
    "    link.append(i.get_attribute('href'))\n",
    "\n",
    "len(link)"
   ]
  },
  {
   "cell_type": "code",
   "execution_count": 33,
   "id": "a77b2581",
   "metadata": {},
   "outputs": [
    {
     "data": {
      "text/plain": [
       "['https://www.flipkart.com/redmi-10-caribbean-green-64-gb/p/itmbfb8dfcdd6e10?pid=MOBGC9GYQGGKWEU3&lid=LSTMOBGC9GYQGGKWEU3SLBNSD&marketplace=FLIPKART&q=smartphones&store=tyy%2F4io&srno=s_1_1&otracker=search&otracker1=search&fm=organic&iid=cf6c9c01-6f63-403a-82eb-2f2d885e05f8.MOBGC9GYQGGKWEU3.SEARCH&ppt=hp&ppn=homepage&ssid=uig86k9t0g0000001684487292265&qH=6ea4465d0add4685',\n",
       " 'https://www.flipkart.com/motorola-g32-satin-silver-128-gb/p/itm8e7224d29bfc6?pid=MOBGM2EHGUNGDDQR&lid=LSTMOBGM2EHGUNGDDQRKIBLDP&marketplace=FLIPKART&q=smartphones&store=tyy%2F4io&srno=s_1_2&otracker=search&otracker1=search&fm=organic&iid=cf6c9c01-6f63-403a-82eb-2f2d885e05f8.MOBGM2EHGUNGDDQR.SEARCH&ppt=hp&ppn=homepage&ssid=uig86k9t0g0000001684487292265&qH=6ea4465d0add4685',\n",
       " 'https://www.flipkart.com/realme-c33-night-sea-32-gb/p/itma112335dbe78a?pid=MOBGHBJGGVPHHTYQ&lid=LSTMOBGHBJGGVPHHTYQPKXLM2&marketplace=FLIPKART&q=smartphones&store=tyy%2F4io&srno=s_1_3&otracker=search&otracker1=search&fm=organic&iid=cf6c9c01-6f63-403a-82eb-2f2d885e05f8.MOBGHBJGGVPHHTYQ.SEARCH&ppt=hp&ppn=homepage&ssid=uig86k9t0g0000001684487292265&qH=6ea4465d0add4685',\n",
       " 'https://www.flipkart.com/poco-c51-royal-blue-64-gb/p/itm1e4e8373537a7?pid=MOBGZCQFCWNDK89P&lid=LSTMOBGZCQFCWNDK89PTMGT86&marketplace=FLIPKART&q=smartphones&store=tyy%2F4io&srno=s_1_4&otracker=search&otracker1=search&fm=organic&iid=cf6c9c01-6f63-403a-82eb-2f2d885e05f8.MOBGZCQFCWNDK89P.SEARCH&ppt=hp&ppn=homepage&ssid=uig86k9t0g0000001684487292265&qH=6ea4465d0add4685',\n",
       " 'https://www.flipkart.com/redmi-10-midnight-black-64-gb/p/itmd93641e4ebb47?pid=MOBGC9GYEBH3GZ4E&lid=LSTMOBGC9GYEBH3GZ4E44YY0L&marketplace=FLIPKART&q=smartphones&store=tyy%2F4io&srno=s_1_5&otracker=search&otracker1=search&fm=organic&iid=cf6c9c01-6f63-403a-82eb-2f2d885e05f8.MOBGC9GYEBH3GZ4E.SEARCH&ppt=hp&ppn=homepage&ssid=uig86k9t0g0000001684487292265&qH=6ea4465d0add4685',\n",
       " 'https://www.flipkart.com/vivo-t2x-5g-marine-blue-128-gb/p/itmcf0e8d553142a?pid=MOBGZBFUZHRYUKVR&lid=LSTMOBGZBFUZHRYUKVRIAHQ7J&marketplace=FLIPKART&q=smartphones&store=tyy%2F4io&srno=s_1_6&otracker=search&otracker1=search&fm=organic&iid=cf6c9c01-6f63-403a-82eb-2f2d885e05f8.MOBGZBFUZHRYUKVR.SEARCH&ppt=hp&ppn=homepage&ssid=uig86k9t0g0000001684487292265&qH=6ea4465d0add4685',\n",
       " 'https://www.flipkart.com/vivo-t2x-5g-aurora-gold-128-gb/p/itmcf0e8d553142a?pid=MOBGZBFUFNDXSGHS&lid=LSTMOBGZBFUFNDXSGHSI1GIZR&marketplace=FLIPKART&q=smartphones&store=tyy%2F4io&spotlightTagId=BestsellerId_tyy%2F4io&srno=s_1_7&otracker=search&otracker1=search&fm=organic&iid=cf6c9c01-6f63-403a-82eb-2f2d885e05f8.MOBGZBFUFNDXSGHS.SEARCH&ppt=hp&ppn=homepage&ssid=uig86k9t0g0000001684487292265&qH=6ea4465d0add4685',\n",
       " 'https://www.flipkart.com/vivo-t2x-5g-glimmer-black-128-gb/p/itmcf0e8d553142a?pid=MOBGZBFUF389GDMP&lid=LSTMOBGZBFUF389GDMPW0HJRW&marketplace=FLIPKART&q=smartphones&store=tyy%2F4io&srno=s_1_8&otracker=search&otracker1=search&fm=organic&iid=cf6c9c01-6f63-403a-82eb-2f2d885e05f8.MOBGZBFUF389GDMP.SEARCH&ppt=hp&ppn=homepage&ssid=uig86k9t0g0000001684487292265&qH=6ea4465d0add4685',\n",
       " 'https://www.flipkart.com/vivo-t2x-5g-glimmer-black-128-gb/p/itmcf0e8d553142a?pid=MOBGZBFUZEMCKRGE&lid=LSTMOBGZBFUZEMCKRGEHY68W1&marketplace=FLIPKART&q=smartphones&store=tyy%2F4io&srno=s_1_9&otracker=search&otracker1=search&fm=organic&iid=cf6c9c01-6f63-403a-82eb-2f2d885e05f8.MOBGZBFUZEMCKRGE.SEARCH&ppt=hp&ppn=homepage&ssid=uig86k9t0g0000001684487292265&qH=6ea4465d0add4685',\n",
       " 'https://www.flipkart.com/vivo-t2x-5g-aurora-gold-128-gb/p/itmcf0e8d553142a?pid=MOBGZBFUSEFSWASX&lid=LSTMOBGZBFUSEFSWASXKM9M4E&marketplace=FLIPKART&q=smartphones&store=tyy%2F4io&srno=s_1_10&otracker=search&otracker1=search&fm=organic&iid=cf6c9c01-6f63-403a-82eb-2f2d885e05f8.MOBGZBFUSEFSWASX.SEARCH&ppt=hp&ppn=homepage&ssid=uig86k9t0g0000001684487292265&qH=6ea4465d0add4685',\n",
       " 'https://www.flipkart.com/vivo-t2x-5g-marine-blue-128-gb/p/itmcf0e8d553142a?pid=MOBGZBFUPTU7DNCA&lid=LSTMOBGZBFUPTU7DNCAIBDO3Z&marketplace=FLIPKART&q=smartphones&store=tyy%2F4io&srno=s_1_11&otracker=search&otracker1=search&fm=organic&iid=cf6c9c01-6f63-403a-82eb-2f2d885e05f8.MOBGZBFUPTU7DNCA.SEARCH&ppt=hp&ppn=homepage&ssid=uig86k9t0g0000001684487292265&qH=6ea4465d0add4685',\n",
       " 'https://www.flipkart.com/vivo-t2x-5g-aurora-gold-128-gb/p/itmcf0e8d553142a?pid=MOBGZBFUQMTHYHSH&lid=LSTMOBGZBFUQMTHYHSHXWZGSH&marketplace=FLIPKART&q=smartphones&store=tyy%2F4io&srno=s_1_12&otracker=search&otracker1=search&fm=organic&iid=cf6c9c01-6f63-403a-82eb-2f2d885e05f8.MOBGZBFUQMTHYHSH.SEARCH&ppt=hp&ppn=homepage&ssid=uig86k9t0g0000001684487292265&qH=6ea4465d0add4685',\n",
       " 'https://www.flipkart.com/redmi-10-sunrise-orange-64-gb/p/itmae4c7ad2665f3?pid=MOBGMPHF9TDM2MM3&lid=LSTMOBGMPHF9TDM2MM39RM7JR&marketplace=FLIPKART&q=smartphones&store=tyy%2F4io&srno=s_1_13&otracker=search&otracker1=search&fm=organic&iid=cf6c9c01-6f63-403a-82eb-2f2d885e05f8.MOBGMPHF9TDM2MM3.SEARCH&ppt=hp&ppn=homepage&ssid=uig86k9t0g0000001684487292265&qH=6ea4465d0add4685',\n",
       " 'https://www.flipkart.com/realme-c33-aqua-blue-32-gb/p/itma112335dbe78a?pid=MOBGHBJGFKM7MNQH&lid=LSTMOBGHBJGFKM7MNQHMLW6ZM&marketplace=FLIPKART&q=smartphones&store=tyy%2F4io&srno=s_1_14&otracker=search&otracker1=search&fm=organic&iid=cf6c9c01-6f63-403a-82eb-2f2d885e05f8.MOBGHBJGFKM7MNQH.SEARCH&ppt=hp&ppn=homepage&ssid=uig86k9t0g0000001684487292265&qH=6ea4465d0add4685',\n",
       " 'https://www.flipkart.com/realme-c33-2023-night-sea-64-gb/p/itmdfad610ca6eff?pid=MOBGMWBY7J7NKPQE&lid=LSTMOBGMWBY7J7NKPQE3AVTPM&marketplace=FLIPKART&q=smartphones&store=tyy%2F4io&srno=s_1_15&otracker=search&otracker1=search&fm=organic&iid=cf6c9c01-6f63-403a-82eb-2f2d885e05f8.MOBGMWBY7J7NKPQE.SEARCH&ppt=hp&ppn=homepage&ssid=uig86k9t0g0000001684487292265&qH=6ea4465d0add4685',\n",
       " 'https://www.flipkart.com/realme-c33-2023-aqua-blue-64-gb/p/itmdfad610ca6eff?pid=MOBGMWBYUWY2EMNU&lid=LSTMOBGMWBYUWY2EMNUCEFPBD&marketplace=FLIPKART&q=smartphones&store=tyy%2F4io&srno=s_1_16&otracker=search&otracker1=search&fm=organic&iid=cf6c9c01-6f63-403a-82eb-2f2d885e05f8.MOBGMWBYUWY2EMNU.SEARCH&ppt=hp&ppn=homepage&ssid=uig86k9t0g0000001684487292265&qH=6ea4465d0add4685',\n",
       " 'https://www.flipkart.com/realme-c33-2023-sandy-gold-64-gb/p/itmdfad610ca6eff?pid=MOBGMWBYFKUYZFZA&lid=LSTMOBGMWBYFKUYZFZAG8DUMK&marketplace=FLIPKART&q=smartphones&store=tyy%2F4io&srno=s_1_17&otracker=search&otracker1=search&fm=organic&iid=cf6c9c01-6f63-403a-82eb-2f2d885e05f8.MOBGMWBYFKUYZFZA.SEARCH&ppt=hp&ppn=homepage&ssid=uig86k9t0g0000001684487292265&qH=6ea4465d0add4685',\n",
       " 'https://www.flipkart.com/samsung-galaxy-f13-nightsky-green-64-gb/p/itmeadfda1bd23fa?pid=MOBGENJWF4KJTPEN&lid=LSTMOBGENJWF4KJTPENS2XJXA&marketplace=FLIPKART&q=smartphones&store=tyy%2F4io&srno=s_1_18&otracker=search&otracker1=search&fm=organic&iid=cf6c9c01-6f63-403a-82eb-2f2d885e05f8.MOBGENJWF4KJTPEN.SEARCH&ppt=hp&ppn=homepage&ssid=uig86k9t0g0000001684487292265&qH=6ea4465d0add4685',\n",
       " 'https://www.flipkart.com/realme-c33-sandy-gold-32-gb/p/itma112335dbe78a?pid=MOBGHBJGF9QZYSZX&lid=LSTMOBGHBJGF9QZYSZXROLVZH&marketplace=FLIPKART&q=smartphones&store=tyy%2F4io&srno=s_1_19&otracker=search&otracker1=search&fm=organic&iid=cf6c9c01-6f63-403a-82eb-2f2d885e05f8.MOBGHBJGF9QZYSZX.SEARCH&ppt=hp&ppn=homepage&ssid=uig86k9t0g0000001684487292265&qH=6ea4465d0add4685',\n",
       " 'https://www.flipkart.com/realme-c33-sandy-gold-64-gb/p/itma112335dbe78a?pid=MOBGHBJG8NWDGK6T&lid=LSTMOBGHBJG8NWDGK6TYTLTOF&marketplace=FLIPKART&q=smartphones&store=tyy%2F4io&srno=s_1_20&otracker=search&otracker1=search&fm=organic&iid=cf6c9c01-6f63-403a-82eb-2f2d885e05f8.MOBGHBJG8NWDGK6T.SEARCH&ppt=hp&ppn=homepage&ssid=uig86k9t0g0000001684487292265&qH=6ea4465d0add4685',\n",
       " 'https://www.flipkart.com/realme-c33-night-sea-64-gb/p/itma112335dbe78a?pid=MOBGHBJGZ3GYDFD2&lid=LSTMOBGHBJGZ3GYDFD2UJE1AM&marketplace=FLIPKART&q=smartphones&store=tyy%2F4io&srno=s_1_21&otracker=search&otracker1=search&fm=organic&iid=cf6c9c01-6f63-403a-82eb-2f2d885e05f8.MOBGHBJGZ3GYDFD2.SEARCH&ppt=hp&ppn=homepage&ssid=uig86k9t0g0000001684487292265&qH=6ea4465d0add4685',\n",
       " 'https://www.flipkart.com/poco-c55-power-black-128-gb/p/itm52dfc91751293?pid=MOBGMXSWPMRNGVGW&lid=LSTMOBGMXSWPMRNGVGWUDX773&marketplace=FLIPKART&q=smartphones&store=tyy%2F4io&srno=s_1_22&otracker=search&otracker1=search&fm=organic&iid=cf6c9c01-6f63-403a-82eb-2f2d885e05f8.MOBGMXSWPMRNGVGW.SEARCH&ppt=hp&ppn=homepage&ssid=uig86k9t0g0000001684487292265&qH=6ea4465d0add4685',\n",
       " 'https://www.flipkart.com/realme-c33-aqua-blue-64-gb/p/itma112335dbe78a?pid=MOBGHBJG3M6FB35G&lid=LSTMOBGHBJG3M6FB35GOCB4ZL&marketplace=FLIPKART&q=smartphones&store=tyy%2F4io&srno=s_1_23&otracker=search&otracker1=search&fm=organic&iid=cf6c9c01-6f63-403a-82eb-2f2d885e05f8.MOBGHBJG3M6FB35G.SEARCH&ppt=hp&ppn=homepage&ssid=uig86k9t0g0000001684487292265&qH=6ea4465d0add4685',\n",
       " 'https://www.flipkart.com/poco-m5-icy-blue-64-gb/p/itmcc02f8aecb269?pid=MOBGHMZE5ERRQPJH&lid=LSTMOBGHMZE5ERRQPJHGJ37RN&marketplace=FLIPKART&q=smartphones&store=tyy%2F4io&srno=s_1_24&otracker=search&otracker1=search&fm=organic&iid=cf6c9c01-6f63-403a-82eb-2f2d885e05f8.MOBGHMZE5ERRQPJH.SEARCH&ppt=hp&ppn=homepage&ssid=uig86k9t0g0000001684487292265&qH=6ea4465d0add4685']"
      ]
     },
     "execution_count": 33,
     "metadata": {},
     "output_type": "execute_result"
    }
   ],
   "source": [
    "link"
   ]
  },
  {
   "cell_type": "code",
   "execution_count": 34,
   "id": "d1e12b06",
   "metadata": {},
   "outputs": [
    {
     "data": {
      "text/plain": [
       "24"
      ]
     },
     "execution_count": 34,
     "metadata": {},
     "output_type": "execute_result"
    }
   ],
   "source": [
    "BN=[]\n",
    "\n",
    "for i in link:\n",
    "    driver.get(i)\n",
    "    try:\n",
    "        name=driver.find_element(By.XPATH,'//span[@class=\"B_NuCI\"]')\n",
    "        BN.append(name.text.split('|')[0])\n",
    "    except NoSuchElementException :\n",
    "        BN.append('-')\n",
    "\n",
    "len(BN)"
   ]
  },
  {
   "cell_type": "code",
   "execution_count": 35,
   "id": "cbefeb76",
   "metadata": {},
   "outputs": [
    {
     "data": {
      "text/plain": [
       "['REDMI 10 (Caribbean Green, 64 GB)  (4 GB RAM)',\n",
       " 'MOTOROLA G32 (Satin Silver, 128 GB)  (8 GB RAM)',\n",
       " 'realme C33 (Night Sea, 32 GB)  (3 GB RAM)',\n",
       " 'POCO C51 (Royal Blue, 64 GB)  (4 GB RAM)',\n",
       " 'REDMI 10 (Midnight Black, 64 GB)  (4 GB RAM)',\n",
       " 'vivo T2x 5G (Marine Blue, 128 GB)  (8 GB RAM)',\n",
       " 'vivo T2x 5G (Aurora Gold, 128 GB)  (6 GB RAM)',\n",
       " 'vivo T2x 5G (Glimmer Black, 128 GB)  (6 GB RAM)',\n",
       " 'vivo T2x 5G (Glimmer Black, 128 GB)  (8 GB RAM)',\n",
       " 'vivo T2x 5G (Aurora Gold, 128 GB)  (8 GB RAM)',\n",
       " 'vivo T2x 5G (Marine Blue, 128 GB)  (4 GB RAM)',\n",
       " 'vivo T2x 5G (Aurora Gold, 128 GB)  (4 GB RAM)',\n",
       " 'REDMI 10 (Sunrise Orange, 64 GB)  (4 GB RAM)',\n",
       " 'realme C33 (Aqua Blue, 32 GB)  (3 GB RAM)',\n",
       " 'realme C33 2023 (Night Sea, 64 GB)  (4 GB RAM)',\n",
       " 'realme C33 2023 (Aqua Blue, 64 GB)  (4 GB RAM)',\n",
       " 'realme C33 2023 (Sandy Gold, 64 GB)  (4 GB RAM)',\n",
       " 'SAMSUNG Galaxy F13 (Nightsky Green, 64 GB)  (4 GB RAM)',\n",
       " 'realme C33 (Sandy Gold, 32 GB)  (3 GB RAM)',\n",
       " 'realme C33 (Sandy Gold, 64 GB)  (4 GB RAM)',\n",
       " 'realme C33 (Night Sea, 64 GB)  (4 GB RAM)',\n",
       " 'POCO C55 (Power Black, 128 GB)  (6 GB RAM)',\n",
       " 'realme C33 (Aqua Blue, 64 GB)  (4 GB RAM)',\n",
       " 'POCO M5 (Icy Blue, 64 GB)  (4 GB RAM)']"
      ]
     },
     "execution_count": 35,
     "metadata": {},
     "output_type": "execute_result"
    }
   ],
   "source": [
    "SN=[]\n",
    "\n",
    "for i in link:\n",
    "    driver.get(i)\n",
    "    try:\n",
    "        model=driver.find_element(By.XPATH,'/html/body/div[1]/div/div[3]/div[1]/div[2]/div[2]/div/div[1]/h1/span')\n",
    "        SN.append(model.text)\n",
    "    except NoSuchElementException :\n",
    "        SN.append('-')\n",
    "SN"
   ]
  },
  {
   "cell_type": "code",
   "execution_count": 36,
   "id": "78a55ad9",
   "metadata": {},
   "outputs": [
    {
     "data": {
      "text/plain": [
       "24"
      ]
     },
     "execution_count": 36,
     "metadata": {},
     "output_type": "execute_result"
    }
   ],
   "source": [
    "color=[]\n",
    "\n",
    "for i in link:\n",
    "    driver.get(i)\n",
    "    try:\n",
    "        col=driver.find_element(By.XPATH,'//tr[4][@class=\"_1s_Smc row\"]')\n",
    "        color.append(col.text.replace('Color\\n',''))\n",
    "    except NoSuchElementException :\n",
    "        color.append('-')\n",
    "len(color)"
   ]
  },
  {
   "cell_type": "code",
   "execution_count": 37,
   "id": "318a14bc",
   "metadata": {},
   "outputs": [
    {
     "data": {
      "text/plain": [
       "24"
      ]
     },
     "execution_count": 37,
     "metadata": {},
     "output_type": "execute_result"
    }
   ],
   "source": [
    "RAM=[]\n",
    "\n",
    "for i in link:\n",
    "    driver.get(i)\n",
    "    try:\n",
    "        ram=driver.find_element(By.XPATH,'//div[3][@class=\"ffYZ17 col col-12-12\"]')\n",
    "        RAM.append(ram.text.replace('\\n','-'))\n",
    "    except NoSuchElementException :\n",
    "        RAM.append('-')\n",
    "len(RAM)"
   ]
  },
  {
   "cell_type": "code",
   "execution_count": 38,
   "id": "85206876",
   "metadata": {},
   "outputs": [],
   "source": [
    "Storage=[]\n",
    "\n",
    "for i in link:\n",
    "    driver.get(i)\n",
    "    try:\n",
    "        rom=driver.find_element(By.XPATH,'/html/body/div[1]/div/div[3]/div[1]/div[2]/div[6]/div/div[2]/div[1]')\n",
    "        Storage.append(rom.text.replace('\\n',' ').replace('Storage',''))\n",
    "    except NoSuchElementException :\n",
    "        Storage.append('-')"
   ]
  },
  {
   "cell_type": "code",
   "execution_count": 39,
   "id": "6ada9081",
   "metadata": {},
   "outputs": [],
   "source": [
    "PC=[]\n",
    "SC=[]\n",
    "DS=[]\n",
    "BS=[]\n",
    "Price=[]\n",
    "\n",
    "for i in link:\n",
    "    driver.get(i)\n",
    "    try:\n",
    "        cam=driver.find_element(By.XPATH,'/html/body/div[1]/div/div[3]/div[1]/div[2]/div[9]/div[5]/div/div[2]/div[1]/div[5]/table/tbody/tr[2]')\n",
    "        PC.append(cam.text)\n",
    "    except NoSuchElementException :\n",
    "        PC.append('-')\n",
    "    \n",
    "    try:\n",
    "        scam=driver.find_element(By.XPATH,'/html/body/div[1]/div/div[3]/div[1]/div[2]/div[9]/div[5]/div/div[2]/div[1]/div[5]/table/tbody/tr[5]')\n",
    "        SC.append(scam.text)\n",
    "    except NoSuchElementException :\n",
    "        SC.append('-')\n",
    "\n",
    "    try:\n",
    "        screen=driver.find_element(By.XPATH,'//li[2][@class=\"_21Ahn-\"]')\n",
    "        DS.append(screen.text)\n",
    "    except NoSuchElementException :\n",
    "        DS.append('-')\n",
    "        \n",
    "    try:\n",
    "        battery=driver.find_element(By.XPATH,'//li[4][@class=\"_21Ahn-\"]')\n",
    "        BS.append(battery.text)\n",
    "    except NoSuchElementException :\n",
    "        BS.append('-')\n",
    "        \n",
    "    try:\n",
    "        cost=driver.find_element(By.XPATH,'//div[@class=\"_30jeq3 _16Jk6d\"]')\n",
    "        Price.append(cost.text)\n",
    "    except NoSuchElementException :\n",
    "        Price.append('-')"
   ]
  },
  {
   "cell_type": "code",
   "execution_count": 41,
   "id": "ec4b052a",
   "metadata": {},
   "outputs": [
    {
     "data": {
      "text/html": [
       "<div>\n",
       "<style scoped>\n",
       "    .dataframe tbody tr th:only-of-type {\n",
       "        vertical-align: middle;\n",
       "    }\n",
       "\n",
       "    .dataframe tbody tr th {\n",
       "        vertical-align: top;\n",
       "    }\n",
       "\n",
       "    .dataframe thead th {\n",
       "        text-align: right;\n",
       "    }\n",
       "</style>\n",
       "<table border=\"1\" class=\"dataframe\">\n",
       "  <thead>\n",
       "    <tr style=\"text-align: right;\">\n",
       "      <th></th>\n",
       "      <th>BRAND</th>\n",
       "      <th>SMARTPHONE NAME</th>\n",
       "      <th>COLOUR</th>\n",
       "      <th>RAM</th>\n",
       "      <th>ROM</th>\n",
       "      <th>Primary Camera</th>\n",
       "      <th>Secondary Camera</th>\n",
       "      <th>SCREEN</th>\n",
       "      <th>Battery Capacity</th>\n",
       "      <th>PRICE</th>\n",
       "    </tr>\n",
       "  </thead>\n",
       "  <tbody>\n",
       "    <tr>\n",
       "      <th>0</th>\n",
       "      <td>REDMI 10 (Caribbean Green, 64 GB)  (4 GB RAM)</td>\n",
       "      <td>REDMI 10 (Caribbean Green, 64 GB)  (4 GB RAM)</td>\n",
       "      <td>Caribbean Green</td>\n",
       "      <td>RAM-4 GB-6 GB</td>\n",
       "      <td>64 GB 128 GB</td>\n",
       "      <td></td>\n",
       "      <td></td>\n",
       "      <td>17.02 cm (6.7 inch) HD+ Display</td>\n",
       "      <td>6000 mAh Lithium Polymer Battery</td>\n",
       "      <td>₹9,499</td>\n",
       "    </tr>\n",
       "    <tr>\n",
       "      <th>1</th>\n",
       "      <td>MOTOROLA G32 (Satin Silver, 128 GB)  (8 GB RAM)</td>\n",
       "      <td>MOTOROLA G32 (Satin Silver, 128 GB)  (8 GB RAM)</td>\n",
       "      <td>Satin Silver</td>\n",
       "      <td>RAM-4 GB-8 GB</td>\n",
       "      <td>64 GB 128 GB</td>\n",
       "      <td></td>\n",
       "      <td></td>\n",
       "      <td>16.64 cm (6.55 inch) Full HD+ Display</td>\n",
       "      <td>5000 mAh Battery</td>\n",
       "      <td>₹11,999</td>\n",
       "    </tr>\n",
       "    <tr>\n",
       "      <th>2</th>\n",
       "      <td>realme C33 (Night Sea, 32 GB)  (3 GB RAM)</td>\n",
       "      <td>realme C33 (Night Sea, 32 GB)  (3 GB RAM)</td>\n",
       "      <td>Night Sea</td>\n",
       "      <td>RAM-3 GB-4 GB</td>\n",
       "      <td>32 GB 64 GB</td>\n",
       "      <td></td>\n",
       "      <td></td>\n",
       "      <td>16.51 cm (6.5 inch) HD+ Display</td>\n",
       "      <td>5000 mAh Lithium Ion Battery</td>\n",
       "      <td>₹8,999</td>\n",
       "    </tr>\n",
       "    <tr>\n",
       "      <th>3</th>\n",
       "      <td>POCO C51 (Royal Blue, 64 GB)  (4 GB RAM)</td>\n",
       "      <td>POCO C51 (Royal Blue, 64 GB)  (4 GB RAM)</td>\n",
       "      <td>Royal Blue</td>\n",
       "      <td>-</td>\n",
       "      <td>-</td>\n",
       "      <td></td>\n",
       "      <td></td>\n",
       "      <td>16.56 cm (6.52 inch) HD+ Display</td>\n",
       "      <td>5000 mAh Battery</td>\n",
       "      <td>₹7,249</td>\n",
       "    </tr>\n",
       "    <tr>\n",
       "      <th>4</th>\n",
       "      <td>REDMI 10 (Midnight Black, 64 GB)  (4 GB RAM)</td>\n",
       "      <td>REDMI 10 (Midnight Black, 64 GB)  (4 GB RAM)</td>\n",
       "      <td>Midnight Black</td>\n",
       "      <td>RAM-4 GB-6 GB</td>\n",
       "      <td>64 GB 128 GB</td>\n",
       "      <td></td>\n",
       "      <td></td>\n",
       "      <td>17.02 cm (6.7 inch) HD+ Display</td>\n",
       "      <td>6000 mAh Lithium Polymer Battery</td>\n",
       "      <td>₹9,499</td>\n",
       "    </tr>\n",
       "    <tr>\n",
       "      <th>5</th>\n",
       "      <td>vivo T2x 5G (Marine Blue, 128 GB)  (8 GB RAM)</td>\n",
       "      <td>vivo T2x 5G (Marine Blue, 128 GB)  (8 GB RAM)</td>\n",
       "      <td>Marine Blue</td>\n",
       "      <td>-</td>\n",
       "      <td>RAM 4 GB 6 GB 8 GB</td>\n",
       "      <td></td>\n",
       "      <td></td>\n",
       "      <td>16.71 cm (6.58 inch) Full HD+ Display</td>\n",
       "      <td>5000 mAh Battery</td>\n",
       "      <td>₹15,999</td>\n",
       "    </tr>\n",
       "    <tr>\n",
       "      <th>6</th>\n",
       "      <td>vivo T2x 5G (Aurora Gold, 128 GB)  (6 GB RAM)</td>\n",
       "      <td>vivo T2x 5G (Aurora Gold, 128 GB)  (6 GB RAM)</td>\n",
       "      <td>Aurora Gold</td>\n",
       "      <td>-</td>\n",
       "      <td>RAM 4 GB 6 GB 8 GB</td>\n",
       "      <td></td>\n",
       "      <td></td>\n",
       "      <td>16.71 cm (6.58 inch) Full HD+ Display</td>\n",
       "      <td>5000 mAh Battery</td>\n",
       "      <td>₹13,999</td>\n",
       "    </tr>\n",
       "    <tr>\n",
       "      <th>7</th>\n",
       "      <td>vivo T2x 5G (Glimmer Black, 128 GB)  (6 GB RAM)</td>\n",
       "      <td>vivo T2x 5G (Glimmer Black, 128 GB)  (6 GB RAM)</td>\n",
       "      <td>Glimmer Black</td>\n",
       "      <td>-</td>\n",
       "      <td>RAM 4 GB 6 GB 8 GB</td>\n",
       "      <td></td>\n",
       "      <td></td>\n",
       "      <td>16.71 cm (6.58 inch) Full HD+ Display</td>\n",
       "      <td>5000 mAh Battery</td>\n",
       "      <td>₹13,999</td>\n",
       "    </tr>\n",
       "    <tr>\n",
       "      <th>8</th>\n",
       "      <td>vivo T2x 5G (Glimmer Black, 128 GB)  (8 GB RAM)</td>\n",
       "      <td>vivo T2x 5G (Glimmer Black, 128 GB)  (8 GB RAM)</td>\n",
       "      <td>Glimmer Black</td>\n",
       "      <td>-</td>\n",
       "      <td>RAM 4 GB 6 GB 8 GB</td>\n",
       "      <td></td>\n",
       "      <td></td>\n",
       "      <td>16.71 cm (6.58 inch) Full HD+ Display</td>\n",
       "      <td>5000 mAh Battery</td>\n",
       "      <td>₹15,999</td>\n",
       "    </tr>\n",
       "    <tr>\n",
       "      <th>9</th>\n",
       "      <td>vivo T2x 5G (Aurora Gold, 128 GB)  (8 GB RAM)</td>\n",
       "      <td>vivo T2x 5G (Aurora Gold, 128 GB)  (8 GB RAM)</td>\n",
       "      <td>Aurora Gold</td>\n",
       "      <td>-</td>\n",
       "      <td>RAM 4 GB 6 GB 8 GB</td>\n",
       "      <td></td>\n",
       "      <td></td>\n",
       "      <td>16.71 cm (6.58 inch) Full HD+ Display</td>\n",
       "      <td>5000 mAh Battery</td>\n",
       "      <td>₹15,999</td>\n",
       "    </tr>\n",
       "    <tr>\n",
       "      <th>10</th>\n",
       "      <td>vivo T2x 5G (Marine Blue, 128 GB)  (4 GB RAM)</td>\n",
       "      <td>vivo T2x 5G (Marine Blue, 128 GB)  (4 GB RAM)</td>\n",
       "      <td>Marine Blue</td>\n",
       "      <td>-</td>\n",
       "      <td>RAM 4 GB 6 GB 8 GB</td>\n",
       "      <td></td>\n",
       "      <td></td>\n",
       "      <td>16.71 cm (6.58 inch) Full HD+ Display</td>\n",
       "      <td>5000 mAh Battery</td>\n",
       "      <td>₹12,999</td>\n",
       "    </tr>\n",
       "    <tr>\n",
       "      <th>11</th>\n",
       "      <td>vivo T2x 5G (Aurora Gold, 128 GB)  (4 GB RAM)</td>\n",
       "      <td>vivo T2x 5G (Aurora Gold, 128 GB)  (4 GB RAM)</td>\n",
       "      <td>Aurora Gold</td>\n",
       "      <td>-</td>\n",
       "      <td>RAM 4 GB 6 GB 8 GB</td>\n",
       "      <td></td>\n",
       "      <td></td>\n",
       "      <td>16.71 cm (6.58 inch) Full HD+ Display</td>\n",
       "      <td>5000 mAh Battery</td>\n",
       "      <td>₹12,999</td>\n",
       "    </tr>\n",
       "    <tr>\n",
       "      <th>12</th>\n",
       "      <td>REDMI 10 (Sunrise Orange, 64 GB)  (4 GB RAM)</td>\n",
       "      <td>REDMI 10 (Sunrise Orange, 64 GB)  (4 GB RAM)</td>\n",
       "      <td>Sunrise Orange</td>\n",
       "      <td>RAM-4 GB-6 GB</td>\n",
       "      <td>64 GB 128 GB</td>\n",
       "      <td>-</td>\n",
       "      <td>-</td>\n",
       "      <td>17.02 cm (6.7 inch) HD+ Display</td>\n",
       "      <td>6000 mAh Lithium Polymer Battery</td>\n",
       "      <td>₹9,499</td>\n",
       "    </tr>\n",
       "    <tr>\n",
       "      <th>13</th>\n",
       "      <td>realme C33 (Aqua Blue, 32 GB)  (3 GB RAM)</td>\n",
       "      <td>realme C33 (Aqua Blue, 32 GB)  (3 GB RAM)</td>\n",
       "      <td>Aqua Blue</td>\n",
       "      <td>RAM-3 GB-4 GB</td>\n",
       "      <td>32 GB 64 GB</td>\n",
       "      <td></td>\n",
       "      <td></td>\n",
       "      <td>16.51 cm (6.5 inch) HD+ Display</td>\n",
       "      <td>5000 mAh Lithium Ion Battery</td>\n",
       "      <td>₹8,999</td>\n",
       "    </tr>\n",
       "    <tr>\n",
       "      <th>14</th>\n",
       "      <td>realme C33 2023 (Night Sea, 64 GB)  (4 GB RAM)</td>\n",
       "      <td>realme C33 2023 (Night Sea, 64 GB)  (4 GB RAM)</td>\n",
       "      <td>Night Sea</td>\n",
       "      <td>-</td>\n",
       "      <td>64 GB 128 GB</td>\n",
       "      <td>-</td>\n",
       "      <td>-</td>\n",
       "      <td>16.51 cm (6.5 inch) HD+ Display</td>\n",
       "      <td>5000 mAh Lithium Ion Battery</td>\n",
       "      <td>₹9,999</td>\n",
       "    </tr>\n",
       "    <tr>\n",
       "      <th>15</th>\n",
       "      <td>realme C33 2023 (Aqua Blue, 64 GB)  (4 GB RAM)</td>\n",
       "      <td>realme C33 2023 (Aqua Blue, 64 GB)  (4 GB RAM)</td>\n",
       "      <td>Aqua Blue</td>\n",
       "      <td>-</td>\n",
       "      <td>64 GB 128 GB</td>\n",
       "      <td>-</td>\n",
       "      <td>-</td>\n",
       "      <td>16.51 cm (6.5 inch) HD+ Display</td>\n",
       "      <td>5000 mAh Lithium Ion Battery</td>\n",
       "      <td>₹9,999</td>\n",
       "    </tr>\n",
       "    <tr>\n",
       "      <th>16</th>\n",
       "      <td>realme C33 2023 (Sandy Gold, 64 GB)  (4 GB RAM)</td>\n",
       "      <td>realme C33 2023 (Sandy Gold, 64 GB)  (4 GB RAM)</td>\n",
       "      <td>Sandy Gold</td>\n",
       "      <td>-</td>\n",
       "      <td>64 GB 128 GB</td>\n",
       "      <td>-</td>\n",
       "      <td>-</td>\n",
       "      <td>16.51 cm (6.5 inch) HD+ Display</td>\n",
       "      <td>5000 mAh Lithium Ion Battery</td>\n",
       "      <td>₹9,999</td>\n",
       "    </tr>\n",
       "    <tr>\n",
       "      <th>17</th>\n",
       "      <td>SAMSUNG Galaxy F13 (Nightsky Green, 64 GB)  (4...</td>\n",
       "      <td>SAMSUNG Galaxy F13 (Nightsky Green, 64 GB)  (4...</td>\n",
       "      <td>Nightsky Green</td>\n",
       "      <td>-</td>\n",
       "      <td>64 GB 128 GB</td>\n",
       "      <td></td>\n",
       "      <td></td>\n",
       "      <td>16.76 cm (6.6 inch) Full HD+ Display</td>\n",
       "      <td>6000 mAh Lithium Ion Battery</td>\n",
       "      <td>₹10,999</td>\n",
       "    </tr>\n",
       "    <tr>\n",
       "      <th>18</th>\n",
       "      <td>realme C33 (Sandy Gold, 32 GB)  (3 GB RAM)</td>\n",
       "      <td>realme C33 (Sandy Gold, 32 GB)  (3 GB RAM)</td>\n",
       "      <td>Sandy Gold</td>\n",
       "      <td>RAM-3 GB-4 GB</td>\n",
       "      <td>32 GB 64 GB</td>\n",
       "      <td></td>\n",
       "      <td></td>\n",
       "      <td>16.51 cm (6.5 inch) HD+ Display</td>\n",
       "      <td>5000 mAh Lithium Ion Battery</td>\n",
       "      <td>₹8,999</td>\n",
       "    </tr>\n",
       "    <tr>\n",
       "      <th>19</th>\n",
       "      <td>realme C33 (Sandy Gold, 64 GB)  (4 GB RAM)</td>\n",
       "      <td>realme C33 (Sandy Gold, 64 GB)  (4 GB RAM)</td>\n",
       "      <td>Sandy Gold</td>\n",
       "      <td>RAM-3 GB-4 GB</td>\n",
       "      <td>32 GB 64 GB</td>\n",
       "      <td>-</td>\n",
       "      <td>-</td>\n",
       "      <td>16.51 cm (6.5 inch) HD+ Display</td>\n",
       "      <td>5000 mAh Lithium Ion Battery</td>\n",
       "      <td>₹9,999</td>\n",
       "    </tr>\n",
       "    <tr>\n",
       "      <th>20</th>\n",
       "      <td>realme C33 (Night Sea, 64 GB)  (4 GB RAM)</td>\n",
       "      <td>realme C33 (Night Sea, 64 GB)  (4 GB RAM)</td>\n",
       "      <td>Night Sea</td>\n",
       "      <td>RAM-3 GB-4 GB</td>\n",
       "      <td>32 GB 64 GB</td>\n",
       "      <td>-</td>\n",
       "      <td>-</td>\n",
       "      <td>16.51 cm (6.5 inch) HD+ Display</td>\n",
       "      <td>5000 mAh Lithium Ion Battery</td>\n",
       "      <td>₹9,999</td>\n",
       "    </tr>\n",
       "    <tr>\n",
       "      <th>21</th>\n",
       "      <td>POCO C55 (Power Black, 128 GB)  (6 GB RAM)</td>\n",
       "      <td>POCO C55 (Power Black, 128 GB)  (6 GB RAM)</td>\n",
       "      <td>Power Black</td>\n",
       "      <td>RAM-4 GB-6 GB</td>\n",
       "      <td>64 GB 128 GB</td>\n",
       "      <td></td>\n",
       "      <td></td>\n",
       "      <td>17.04 cm (6.71 inch) HD+ Display</td>\n",
       "      <td>5000 mAh Battery</td>\n",
       "      <td>₹9,499</td>\n",
       "    </tr>\n",
       "    <tr>\n",
       "      <th>22</th>\n",
       "      <td>realme C33 (Aqua Blue, 64 GB)  (4 GB RAM)</td>\n",
       "      <td>realme C33 (Aqua Blue, 64 GB)  (4 GB RAM)</td>\n",
       "      <td>Aqua Blue</td>\n",
       "      <td>RAM-3 GB-4 GB</td>\n",
       "      <td>32 GB 64 GB</td>\n",
       "      <td>-</td>\n",
       "      <td>-</td>\n",
       "      <td>16.51 cm (6.5 inch) HD+ Display</td>\n",
       "      <td>5000 mAh Lithium Ion Battery</td>\n",
       "      <td>₹9,999</td>\n",
       "    </tr>\n",
       "    <tr>\n",
       "      <th>23</th>\n",
       "      <td>POCO M5 (Icy Blue, 64 GB)  (4 GB RAM)</td>\n",
       "      <td>POCO M5 (Icy Blue, 64 GB)  (4 GB RAM)</td>\n",
       "      <td>Icy Blue</td>\n",
       "      <td>RAM-4 GB-6 GB</td>\n",
       "      <td>64 GB 128 GB</td>\n",
       "      <td></td>\n",
       "      <td></td>\n",
       "      <td>16.71 cm (6.58 inch) Full HD+ Display</td>\n",
       "      <td>5000 mAh Lithium-ion Polymer Battery</td>\n",
       "      <td>₹8,999</td>\n",
       "    </tr>\n",
       "  </tbody>\n",
       "</table>\n",
       "</div>"
      ],
      "text/plain": [
       "                                                BRAND  \\\n",
       "0       REDMI 10 (Caribbean Green, 64 GB)  (4 GB RAM)   \n",
       "1     MOTOROLA G32 (Satin Silver, 128 GB)  (8 GB RAM)   \n",
       "2           realme C33 (Night Sea, 32 GB)  (3 GB RAM)   \n",
       "3            POCO C51 (Royal Blue, 64 GB)  (4 GB RAM)   \n",
       "4        REDMI 10 (Midnight Black, 64 GB)  (4 GB RAM)   \n",
       "5       vivo T2x 5G (Marine Blue, 128 GB)  (8 GB RAM)   \n",
       "6       vivo T2x 5G (Aurora Gold, 128 GB)  (6 GB RAM)   \n",
       "7     vivo T2x 5G (Glimmer Black, 128 GB)  (6 GB RAM)   \n",
       "8     vivo T2x 5G (Glimmer Black, 128 GB)  (8 GB RAM)   \n",
       "9       vivo T2x 5G (Aurora Gold, 128 GB)  (8 GB RAM)   \n",
       "10      vivo T2x 5G (Marine Blue, 128 GB)  (4 GB RAM)   \n",
       "11      vivo T2x 5G (Aurora Gold, 128 GB)  (4 GB RAM)   \n",
       "12       REDMI 10 (Sunrise Orange, 64 GB)  (4 GB RAM)   \n",
       "13          realme C33 (Aqua Blue, 32 GB)  (3 GB RAM)   \n",
       "14     realme C33 2023 (Night Sea, 64 GB)  (4 GB RAM)   \n",
       "15     realme C33 2023 (Aqua Blue, 64 GB)  (4 GB RAM)   \n",
       "16    realme C33 2023 (Sandy Gold, 64 GB)  (4 GB RAM)   \n",
       "17  SAMSUNG Galaxy F13 (Nightsky Green, 64 GB)  (4...   \n",
       "18         realme C33 (Sandy Gold, 32 GB)  (3 GB RAM)   \n",
       "19         realme C33 (Sandy Gold, 64 GB)  (4 GB RAM)   \n",
       "20          realme C33 (Night Sea, 64 GB)  (4 GB RAM)   \n",
       "21         POCO C55 (Power Black, 128 GB)  (6 GB RAM)   \n",
       "22          realme C33 (Aqua Blue, 64 GB)  (4 GB RAM)   \n",
       "23              POCO M5 (Icy Blue, 64 GB)  (4 GB RAM)   \n",
       "\n",
       "                                      SMARTPHONE NAME           COLOUR  \\\n",
       "0       REDMI 10 (Caribbean Green, 64 GB)  (4 GB RAM)  Caribbean Green   \n",
       "1     MOTOROLA G32 (Satin Silver, 128 GB)  (8 GB RAM)     Satin Silver   \n",
       "2           realme C33 (Night Sea, 32 GB)  (3 GB RAM)        Night Sea   \n",
       "3            POCO C51 (Royal Blue, 64 GB)  (4 GB RAM)       Royal Blue   \n",
       "4        REDMI 10 (Midnight Black, 64 GB)  (4 GB RAM)   Midnight Black   \n",
       "5       vivo T2x 5G (Marine Blue, 128 GB)  (8 GB RAM)      Marine Blue   \n",
       "6       vivo T2x 5G (Aurora Gold, 128 GB)  (6 GB RAM)      Aurora Gold   \n",
       "7     vivo T2x 5G (Glimmer Black, 128 GB)  (6 GB RAM)    Glimmer Black   \n",
       "8     vivo T2x 5G (Glimmer Black, 128 GB)  (8 GB RAM)    Glimmer Black   \n",
       "9       vivo T2x 5G (Aurora Gold, 128 GB)  (8 GB RAM)      Aurora Gold   \n",
       "10      vivo T2x 5G (Marine Blue, 128 GB)  (4 GB RAM)      Marine Blue   \n",
       "11      vivo T2x 5G (Aurora Gold, 128 GB)  (4 GB RAM)      Aurora Gold   \n",
       "12       REDMI 10 (Sunrise Orange, 64 GB)  (4 GB RAM)   Sunrise Orange   \n",
       "13          realme C33 (Aqua Blue, 32 GB)  (3 GB RAM)        Aqua Blue   \n",
       "14     realme C33 2023 (Night Sea, 64 GB)  (4 GB RAM)        Night Sea   \n",
       "15     realme C33 2023 (Aqua Blue, 64 GB)  (4 GB RAM)        Aqua Blue   \n",
       "16    realme C33 2023 (Sandy Gold, 64 GB)  (4 GB RAM)       Sandy Gold   \n",
       "17  SAMSUNG Galaxy F13 (Nightsky Green, 64 GB)  (4...   Nightsky Green   \n",
       "18         realme C33 (Sandy Gold, 32 GB)  (3 GB RAM)       Sandy Gold   \n",
       "19         realme C33 (Sandy Gold, 64 GB)  (4 GB RAM)       Sandy Gold   \n",
       "20          realme C33 (Night Sea, 64 GB)  (4 GB RAM)        Night Sea   \n",
       "21         POCO C55 (Power Black, 128 GB)  (6 GB RAM)      Power Black   \n",
       "22          realme C33 (Aqua Blue, 64 GB)  (4 GB RAM)        Aqua Blue   \n",
       "23              POCO M5 (Icy Blue, 64 GB)  (4 GB RAM)         Icy Blue   \n",
       "\n",
       "              RAM                 ROM Primary Camera Secondary Camera  \\\n",
       "0   RAM-4 GB-6 GB        64 GB 128 GB                                   \n",
       "1   RAM-4 GB-8 GB        64 GB 128 GB                                   \n",
       "2   RAM-3 GB-4 GB         32 GB 64 GB                                   \n",
       "3               -                   -                                   \n",
       "4   RAM-4 GB-6 GB        64 GB 128 GB                                   \n",
       "5               -  RAM 4 GB 6 GB 8 GB                                   \n",
       "6               -  RAM 4 GB 6 GB 8 GB                                   \n",
       "7               -  RAM 4 GB 6 GB 8 GB                                   \n",
       "8               -  RAM 4 GB 6 GB 8 GB                                   \n",
       "9               -  RAM 4 GB 6 GB 8 GB                                   \n",
       "10              -  RAM 4 GB 6 GB 8 GB                                   \n",
       "11              -  RAM 4 GB 6 GB 8 GB                                   \n",
       "12  RAM-4 GB-6 GB        64 GB 128 GB              -                -   \n",
       "13  RAM-3 GB-4 GB         32 GB 64 GB                                   \n",
       "14              -        64 GB 128 GB              -                -   \n",
       "15              -        64 GB 128 GB              -                -   \n",
       "16              -        64 GB 128 GB              -                -   \n",
       "17              -        64 GB 128 GB                                   \n",
       "18  RAM-3 GB-4 GB         32 GB 64 GB                                   \n",
       "19  RAM-3 GB-4 GB         32 GB 64 GB              -                -   \n",
       "20  RAM-3 GB-4 GB         32 GB 64 GB              -                -   \n",
       "21  RAM-4 GB-6 GB        64 GB 128 GB                                   \n",
       "22  RAM-3 GB-4 GB         32 GB 64 GB              -                -   \n",
       "23  RAM-4 GB-6 GB        64 GB 128 GB                                   \n",
       "\n",
       "                                   SCREEN  \\\n",
       "0         17.02 cm (6.7 inch) HD+ Display   \n",
       "1   16.64 cm (6.55 inch) Full HD+ Display   \n",
       "2         16.51 cm (6.5 inch) HD+ Display   \n",
       "3        16.56 cm (6.52 inch) HD+ Display   \n",
       "4         17.02 cm (6.7 inch) HD+ Display   \n",
       "5   16.71 cm (6.58 inch) Full HD+ Display   \n",
       "6   16.71 cm (6.58 inch) Full HD+ Display   \n",
       "7   16.71 cm (6.58 inch) Full HD+ Display   \n",
       "8   16.71 cm (6.58 inch) Full HD+ Display   \n",
       "9   16.71 cm (6.58 inch) Full HD+ Display   \n",
       "10  16.71 cm (6.58 inch) Full HD+ Display   \n",
       "11  16.71 cm (6.58 inch) Full HD+ Display   \n",
       "12        17.02 cm (6.7 inch) HD+ Display   \n",
       "13        16.51 cm (6.5 inch) HD+ Display   \n",
       "14        16.51 cm (6.5 inch) HD+ Display   \n",
       "15        16.51 cm (6.5 inch) HD+ Display   \n",
       "16        16.51 cm (6.5 inch) HD+ Display   \n",
       "17   16.76 cm (6.6 inch) Full HD+ Display   \n",
       "18        16.51 cm (6.5 inch) HD+ Display   \n",
       "19        16.51 cm (6.5 inch) HD+ Display   \n",
       "20        16.51 cm (6.5 inch) HD+ Display   \n",
       "21       17.04 cm (6.71 inch) HD+ Display   \n",
       "22        16.51 cm (6.5 inch) HD+ Display   \n",
       "23  16.71 cm (6.58 inch) Full HD+ Display   \n",
       "\n",
       "                        Battery Capacity    PRICE  \n",
       "0       6000 mAh Lithium Polymer Battery   ₹9,499  \n",
       "1                       5000 mAh Battery  ₹11,999  \n",
       "2           5000 mAh Lithium Ion Battery   ₹8,999  \n",
       "3                       5000 mAh Battery   ₹7,249  \n",
       "4       6000 mAh Lithium Polymer Battery   ₹9,499  \n",
       "5                       5000 mAh Battery  ₹15,999  \n",
       "6                       5000 mAh Battery  ₹13,999  \n",
       "7                       5000 mAh Battery  ₹13,999  \n",
       "8                       5000 mAh Battery  ₹15,999  \n",
       "9                       5000 mAh Battery  ₹15,999  \n",
       "10                      5000 mAh Battery  ₹12,999  \n",
       "11                      5000 mAh Battery  ₹12,999  \n",
       "12      6000 mAh Lithium Polymer Battery   ₹9,499  \n",
       "13          5000 mAh Lithium Ion Battery   ₹8,999  \n",
       "14          5000 mAh Lithium Ion Battery   ₹9,999  \n",
       "15          5000 mAh Lithium Ion Battery   ₹9,999  \n",
       "16          5000 mAh Lithium Ion Battery   ₹9,999  \n",
       "17          6000 mAh Lithium Ion Battery  ₹10,999  \n",
       "18          5000 mAh Lithium Ion Battery   ₹8,999  \n",
       "19          5000 mAh Lithium Ion Battery   ₹9,999  \n",
       "20          5000 mAh Lithium Ion Battery   ₹9,999  \n",
       "21                      5000 mAh Battery   ₹9,499  \n",
       "22          5000 mAh Lithium Ion Battery   ₹9,999  \n",
       "23  5000 mAh Lithium-ion Polymer Battery   ₹8,999  "
      ]
     },
     "execution_count": 41,
     "metadata": {},
     "output_type": "execute_result"
    }
   ],
   "source": [
    "import pandas as pd\n",
    "df=pd.DataFrame({'BRAND':BN,'SMARTPHONE NAME':SN,'COLOUR':color,'RAM':RAM,'ROM':Storage,'Primary Camera':PC,'Secondary Camera':SC,'SCREEN':DS,'Battery Capacity':BS,'PRICE':Price})\n",
    "df\n"
   ]
  },
  {
   "cell_type": "markdown",
   "id": "6dc1a0d8",
   "metadata": {},
   "source": [
    "5. Write a program to scrap geospatial coordinates (latitude, longitude) of a city searched on google\n",
    "maps."
   ]
  },
  {
   "cell_type": "code",
   "execution_count": 3,
   "id": "855e4c05",
   "metadata": {},
   "outputs": [],
   "source": [
    "driver=webdriver.Chrome(r\"chromedriver.exe\")"
   ]
  },
  {
   "cell_type": "code",
   "execution_count": 4,
   "id": "9a51c7c5",
   "metadata": {},
   "outputs": [],
   "source": [
    "driver.get('https://www.googlemaps.com')"
   ]
  },
  {
   "cell_type": "code",
   "execution_count": 5,
   "id": "7ea6950e",
   "metadata": {},
   "outputs": [],
   "source": [
    "location=driver.find_element(By.XPATH,'/html/body/div[3]/div[9]/div[3]/div[1]/div[1]/div/div[2]/form/input[1]')\n",
    "location.send_keys('Odisha')\n",
    "\n",
    "search=driver.find_element(By.XPATH,'/html/body/div[3]/div[9]/div[3]/div[1]/div[1]/div/div[2]/div[1]/button')\n",
    "search.click()"
   ]
  },
  {
   "cell_type": "code",
   "execution_count": 10,
   "id": "f83b676f",
   "metadata": {},
   "outputs": [
    {
     "name": "stdout",
     "output_type": "stream",
     "text": [
      "Enter City name to search : mumbai\n",
      "\n",
      "latitude=19.0821775\n",
      "\n",
      "longitude=72.7163728\n"
     ]
    }
   ],
   "source": [
    "city = input('Enter City name to search : ')\n",
    "search_city = driver.find_element(By.ID,\"searchboxinput\")                       \n",
    "search_city.clear()                                                             \n",
    "time.sleep(2)\n",
    "\n",
    "search_city.send_keys(city)                                                     \n",
    "search_button = driver.find_element(By.ID,\"searchbox-searchbutton\").click()                                                             \n",
    "time.sleep(3)\n",
    "Location=driver.current_url\n",
    "\n",
    "try:\n",
    "    coordinates=re.findall(r'@(.*)data',Location)\n",
    "    lat_lon=coordinates[0].split(\",\")\n",
    "    lat=lat_lon[0]\n",
    "    lon=lat_lon[1]\n",
    "except IndexError as e:\n",
    "    coordinates=re.findall(r'@(.*)z',Location)\n",
    "    lat_lon=coordinates[0].split(\",\")\n",
    "    lat=lat_lon[0]\n",
    "    lon=lat_lon[1]\n",
    "print(\"\\nlatitude={}\".format(lat))\n",
    "print(\"\\nlongitude={}\".format(lon))"
   ]
  },
  {
   "cell_type": "markdown",
   "id": "7cacf715",
   "metadata": {},
   "source": [
    "7. Write a program to scrap all the available details of best gaming laptops from digit.in."
   ]
  },
  {
   "cell_type": "code",
   "execution_count": 77,
   "id": "0df0d4ff",
   "metadata": {},
   "outputs": [],
   "source": [
    "driver=webdriver.Chrome(r\"chromedriver.exe\")\n",
    "driver.get('https://www.digit.in')"
   ]
  },
  {
   "cell_type": "code",
   "execution_count": 82,
   "id": "dab1bd53",
   "metadata": {},
   "outputs": [],
   "source": [
    "top10=driver.find_element(By.XPATH,'/html/body/div[2]/div/ul/li[3]/span')\n",
    "top10.click()"
   ]
  },
  {
   "cell_type": "code",
   "execution_count": 84,
   "id": "690ed3fe",
   "metadata": {},
   "outputs": [],
   "source": [
    "search=driver.find_element(By.XPATH,'/html/body/div[2]/div/ul/li[3]/div[3]/div/div[2]/div/ul[1]/li[3]/a')\n",
    "search.click()"
   ]
  },
  {
   "cell_type": "code",
   "execution_count": 86,
   "id": "1b257705",
   "metadata": {},
   "outputs": [],
   "source": [
    "operating_system=[]\n",
    "Displays=[]\n",
    "Processor=[]\n",
    "Memory=[]\n",
    "Price=[]"
   ]
  },
  {
   "cell_type": "code",
   "execution_count": 87,
   "id": "f7d7e8a9",
   "metadata": {},
   "outputs": [
    {
     "data": {
      "text/plain": [
       "['https://www.digit.in/laptops/lenovo-ideapad-gaming-3-ryzen-5-5600h-2021-price-287161.html',\n",
       " 'https://www.digit.in/laptops/hp-pavilion-ryzen-5-5600h-2022-price-284277.html',\n",
       " 'https://www.digit.in/laptops/asus-vivobook-gaming-10th-gen-core-i7-10870h-2022-price-287175.html',\n",
       " 'https://www.digit.in/laptops/hp-pavillion-15-ryzen-5-4600h-2022-price-284319.html',\n",
       " 'https://www.digit.in/laptops/lenovo-ideapad-gaming-ryzen-5-4600h-price-287189.html',\n",
       " 'https://www.digit.in/laptops/acer-aspire-7-10th-gen-core-i5-2021-price-253641.html',\n",
       " 'https://www.digit.in/laptops/msi-gf63-thin-10th-gen-core-i5-10500h-2021-price-253851.html',\n",
       " 'https://www.digit.in/laptops/asus-tuf-gaming-f15-10th-gen-core-i5-10300h-2021-price-245577.html']"
      ]
     },
     "execution_count": 87,
     "metadata": {},
     "output_type": "execute_result"
    }
   ],
   "source": [
    "urls=[]\n",
    "url=driver.find_elements(By.XPATH,'//a[@class=\"review spec\"]')\n",
    "for i in url:\n",
    "    urls.append(i.get_attribute('href'))\n",
    "    \n",
    "urls"
   ]
  },
  {
   "cell_type": "code",
   "execution_count": 88,
   "id": "bdd8fad8",
   "metadata": {},
   "outputs": [],
   "source": [
    "brand=[]\n",
    "for i in urls:\n",
    "    driver.get(i)\n",
    "    try:\n",
    "        name=driver.find_element(By.XPATH,'//div[@class=\"heading-wraper\"]')\n",
    "        brand.append(name.text)\n",
    "    except NoSuchElementException :\n",
    "        brand.append('-')"
   ]
  },
  {
   "cell_type": "code",
   "execution_count": 96,
   "id": "556b383a",
   "metadata": {},
   "outputs": [],
   "source": [
    "for i in urls:\n",
    "    driver.get(i)\n",
    "    try:\n",
    "        display=driver.find_element(By.XPATH,'//div[2][@class=\"remaining-details\"]')\n",
    "        Displays.append(display.text.replace('Display\\n','').replace('\\ndisplay','').replace('(in inches)','').replace('\\n',' '))\n",
    "    except NoSuchElementException :\n",
    "        Displays.append('-')"
   ]
  },
  {
   "cell_type": "code",
   "execution_count": 95,
   "id": "65f88f99",
   "metadata": {},
   "outputs": [],
   "source": [
    "for i in urls:\n",
    "    driver.get(i)\n",
    "    try:\n",
    "        mem=driver.find_element(By.XPATH,'//div[4][@class=\"remaining-details\"]')\n",
    "        Memory.append(mem.text.replace('Memory\\nram included (in gb) : ','').replace('\\n',' '))\n",
    "    except NoSuchElementException :\n",
    "        Memory.append('-')"
   ]
  },
  {
   "cell_type": "code",
   "execution_count": 90,
   "id": "2011bfdd",
   "metadata": {},
   "outputs": [],
   "source": [
    "for i in urls:\n",
    "    driver.get(i)\n",
    "    try:\n",
    "        rom=driver.find_element(By.XPATH,'//div[6][@class=\"remaining-details\"]')\n",
    "        Processor.append(rom.text.replace('Processor','').replace('\\n',' '))\n",
    "    except NoSuchElementException :\n",
    "        Processor.append('-')"
   ]
  },
  {
   "cell_type": "code",
   "execution_count": 134,
   "id": "d838031e",
   "metadata": {},
   "outputs": [],
   "source": [
    "\n",
    "for i in urls:\n",
    "    driver.get(i)\n",
    "    try:\n",
    "        price=driver.find_element(By.XPATH,'//div[@class=\"price_sec\"]//strong')\n",
    "        PRICE.append(price.text)\n",
    "    except NoSuchElementException :\n",
    "        PRICE.append('-')"
   ]
  },
  {
   "cell_type": "code",
   "execution_count": 135,
   "id": "8584402c",
   "metadata": {},
   "outputs": [
    {
     "name": "stdout",
     "output_type": "stream",
     "text": [
      "['₹ 89,490', '₹ 72,940', '₹ 72,990', '₹ 62,940', '₹ 59,990', '₹ 49,990', '₹ 62,990', '₹ 54,990', '₹ 89,490', '₹ 72,940', '₹ 72,990', '₹ 62,940', '₹ 59,990', '₹ 49,990', '₹ 62,990', '₹ 54,990']\n"
     ]
    }
   ],
   "source": [
    "print(PRICE)"
   ]
  },
  {
   "cell_type": "code",
   "execution_count": 136,
   "id": "9beaf08c",
   "metadata": {},
   "outputs": [
    {
     "name": "stdout",
     "output_type": "stream",
     "text": [
      "8 8 8 16 32\n"
     ]
    }
   ],
   "source": [
    "print(len(brand),len(Displays),len(Processor),len(Memory),len(Price))"
   ]
  },
  {
   "cell_type": "code",
   "execution_count": 139,
   "id": "105eb7bc",
   "metadata": {},
   "outputs": [
    {
     "data": {
      "text/html": [
       "<div>\n",
       "<style scoped>\n",
       "    .dataframe tbody tr th:only-of-type {\n",
       "        vertical-align: middle;\n",
       "    }\n",
       "\n",
       "    .dataframe tbody tr th {\n",
       "        vertical-align: top;\n",
       "    }\n",
       "\n",
       "    .dataframe thead th {\n",
       "        text-align: right;\n",
       "    }\n",
       "</style>\n",
       "<table border=\"1\" class=\"dataframe\">\n",
       "  <thead>\n",
       "    <tr style=\"text-align: right;\">\n",
       "      <th></th>\n",
       "      <th>LAPTOP BRAND AND MODEL</th>\n",
       "      <th>DISPLAY</th>\n",
       "      <th>PROCESSOR</th>\n",
       "      <th>MEMORY</th>\n",
       "      <th>PRICE</th>\n",
       "    </tr>\n",
       "  </thead>\n",
       "  <tbody>\n",
       "    <tr>\n",
       "      <th>0</th>\n",
       "      <td>Lenovo Ideapad Gaming 3 Ryzen 5-5600H\\nUpdated...</td>\n",
       "      <td>Resolution : 1920 x 1080 size  : 15.6 Refresh ...</td>\n",
       "      <td>processor model name : AMD Ryzen 5-5600H cloc...</td>\n",
       "      <td>OS Windows 11 Home</td>\n",
       "      <td>₹ 89,490</td>\n",
       "    </tr>\n",
       "    <tr>\n",
       "      <th>1</th>\n",
       "      <td>HP Pavilion Ryzen 5-5600H (2022)\\nUpdated on 2...</td>\n",
       "      <td>Resolution : 1920 x 1080 size  : 15.6</td>\n",
       "      <td>processor model name : AMD Ryzen 5 Hexa Core-...</td>\n",
       "      <td>OS Windows 11 Home</td>\n",
       "      <td>₹ 72,940</td>\n",
       "    </tr>\n",
       "    <tr>\n",
       "      <th>2</th>\n",
       "      <td>ASUS Vivobook Gaming 10th Gen Core i7-10870H (...</td>\n",
       "      <td>Resolution : 1920 x 1080 size  : 15.6 Refresh ...</td>\n",
       "      <td>processor model name : 10th Gen Intel Core i7...</td>\n",
       "      <td>OS Windows 10 Home</td>\n",
       "      <td>₹ 72,990</td>\n",
       "    </tr>\n",
       "    <tr>\n",
       "      <th>3</th>\n",
       "      <td>HP Pavillion 15\\nUpdated on 17-Nov-2022</td>\n",
       "      <td>Resolution : 1920 x 1080 size  : 15.6 Refresh ...</td>\n",
       "      <td>processor model name : AMD Ryzen 5 Hexa Core-...</td>\n",
       "      <td>OS Windows 10 Home</td>\n",
       "      <td>₹ 62,940</td>\n",
       "    </tr>\n",
       "    <tr>\n",
       "      <th>4</th>\n",
       "      <td>Lenovo IdeaPad Gaming Ryzen 5-4600H\\nUpdated o...</td>\n",
       "      <td>Resolution : 1920 x 1080 size  : 15.6 Refresh ...</td>\n",
       "      <td>processor model name : AMD Ryzen 5-4600H cloc...</td>\n",
       "      <td>OS Windows 10 Home</td>\n",
       "      <td>₹ 59,990</td>\n",
       "    </tr>\n",
       "    <tr>\n",
       "      <th>5</th>\n",
       "      <td>Acer Aspire 7 10th Gen Core i5 (2021)\\nUpdated...</td>\n",
       "      <td>Resolution : 1920 x 1080 size  : 15.6</td>\n",
       "      <td>processor model name : Intel 10th Gen Core i5...</td>\n",
       "      <td>OS Windows 10 Home</td>\n",
       "      <td>₹ 49,990</td>\n",
       "    </tr>\n",
       "    <tr>\n",
       "      <th>6</th>\n",
       "      <td>MSI GF63 Thin 10th Gen Core i5-10500H (2021)\\n...</td>\n",
       "      <td>Resolution : 1920 x 1080 size  : 15.6 Refresh ...</td>\n",
       "      <td>processor model name : Intel 10th Gen Core i5...</td>\n",
       "      <td>OS Windows 10 Home</td>\n",
       "      <td>₹ 62,990</td>\n",
       "    </tr>\n",
       "    <tr>\n",
       "      <th>7</th>\n",
       "      <td>ASUS TUF Gaming F15 FX506LH-HN258W 10th Gen Co...</td>\n",
       "      <td>Resolution : 1920 x 1080 size  : 15.6 Refresh ...</td>\n",
       "      <td>processor model name : 10th Gen Intel Core i5...</td>\n",
       "      <td>OS Windows 10</td>\n",
       "      <td>₹ 54,990</td>\n",
       "    </tr>\n",
       "  </tbody>\n",
       "</table>\n",
       "</div>"
      ],
      "text/plain": [
       "                              LAPTOP BRAND AND MODEL  \\\n",
       "0  Lenovo Ideapad Gaming 3 Ryzen 5-5600H\\nUpdated...   \n",
       "1  HP Pavilion Ryzen 5-5600H (2022)\\nUpdated on 2...   \n",
       "2  ASUS Vivobook Gaming 10th Gen Core i7-10870H (...   \n",
       "3            HP Pavillion 15\\nUpdated on 17-Nov-2022   \n",
       "4  Lenovo IdeaPad Gaming Ryzen 5-4600H\\nUpdated o...   \n",
       "5  Acer Aspire 7 10th Gen Core i5 (2021)\\nUpdated...   \n",
       "6  MSI GF63 Thin 10th Gen Core i5-10500H (2021)\\n...   \n",
       "7  ASUS TUF Gaming F15 FX506LH-HN258W 10th Gen Co...   \n",
       "\n",
       "                                             DISPLAY  \\\n",
       "0  Resolution : 1920 x 1080 size  : 15.6 Refresh ...   \n",
       "1              Resolution : 1920 x 1080 size  : 15.6   \n",
       "2  Resolution : 1920 x 1080 size  : 15.6 Refresh ...   \n",
       "3  Resolution : 1920 x 1080 size  : 15.6 Refresh ...   \n",
       "4  Resolution : 1920 x 1080 size  : 15.6 Refresh ...   \n",
       "5              Resolution : 1920 x 1080 size  : 15.6   \n",
       "6  Resolution : 1920 x 1080 size  : 15.6 Refresh ...   \n",
       "7  Resolution : 1920 x 1080 size  : 15.6 Refresh ...   \n",
       "\n",
       "                                           PROCESSOR              MEMORY  \\\n",
       "0   processor model name : AMD Ryzen 5-5600H cloc...  OS Windows 11 Home   \n",
       "1   processor model name : AMD Ryzen 5 Hexa Core-...  OS Windows 11 Home   \n",
       "2   processor model name : 10th Gen Intel Core i7...  OS Windows 10 Home   \n",
       "3   processor model name : AMD Ryzen 5 Hexa Core-...  OS Windows 10 Home   \n",
       "4   processor model name : AMD Ryzen 5-4600H cloc...  OS Windows 10 Home   \n",
       "5   processor model name : Intel 10th Gen Core i5...  OS Windows 10 Home   \n",
       "6   processor model name : Intel 10th Gen Core i5...  OS Windows 10 Home   \n",
       "7   processor model name : 10th Gen Intel Core i5...       OS Windows 10   \n",
       "\n",
       "      PRICE  \n",
       "0  ₹ 89,490  \n",
       "1  ₹ 72,940  \n",
       "2  ₹ 72,990  \n",
       "3  ₹ 62,940  \n",
       "4  ₹ 59,990  \n",
       "5  ₹ 49,990  \n",
       "6  ₹ 62,990  \n",
       "7  ₹ 54,990  "
      ]
     },
     "execution_count": 139,
     "metadata": {},
     "output_type": "execute_result"
    }
   ],
   "source": [
    "import pandas as pd\n",
    "df_7=pd.DataFrame({'LAPTOP BRAND AND MODEL':brand[0:8],'DISPLAY':Displays[0:8],'PROCESSOR':Processor[0:8],'MEMORY':Memory[0:8],'PRICE':PRICE[0:8]})\n",
    "df_7\n"
   ]
  },
  {
   "cell_type": "code",
   "execution_count": null,
   "id": "794bbc4e",
   "metadata": {},
   "outputs": [],
   "source": []
  },
  {
   "cell_type": "markdown",
   "id": "fc12d519",
   "metadata": {},
   "source": [
    "8. Write a python program to scrape the details for all billionaires from www.forbes.com. Details to be \n",
    "scrapped: “Rank”, “Name”, “Net worth”, “Age”, “Citizenship”, “Source”, “Industry”.\n"
   ]
  },
  {
   "cell_type": "code",
   "execution_count": 165,
   "id": "a248b7d3",
   "metadata": {},
   "outputs": [],
   "source": [
    "driver=webdriver.Chrome(r\"chromedriver.exe\")\n",
    "driver.get('https://www.forbes.com')"
   ]
  },
  {
   "cell_type": "code",
   "execution_count": 166,
   "id": "4467ed5d",
   "metadata": {},
   "outputs": [],
   "source": [
    "bar=driver.find_element(By.XPATH,'/html/body/div[1]/header/nav/div[1]/div/div/div')\n",
    "bar.click()"
   ]
  },
  {
   "cell_type": "code",
   "execution_count": 168,
   "id": "abfd12e6",
   "metadata": {},
   "outputs": [],
   "source": [
    "billionair=driver.find_element(By.XPATH,'/html/body/div[1]/header/nav/div[1]/div[1]/div/div[2]/ul/li[2]/div[1]')\n",
    "billionair.click()"
   ]
  },
  {
   "cell_type": "code",
   "execution_count": 170,
   "id": "7306d558",
   "metadata": {},
   "outputs": [],
   "source": [
    "wb=driver.find_element(By.XPATH,'/html/body/div[1]/header/nav/div[1]/div[1]/div/div[2]/ul/li[2]/div[2]/div[3]/ul/li[1]/a')\n",
    "wb.click()"
   ]
  },
  {
   "cell_type": "code",
   "execution_count": 209,
   "id": "131e1547",
   "metadata": {},
   "outputs": [
    {
     "data": {
      "text/plain": [
       "<selenium.webdriver.remote.webelement.WebElement (session=\"1e3cef614f47ec4bf9e948ae92b9e2b8\", element=\"F9928E21C03A6B758F6A7CEE05AD6169_element_29416\")>"
      ]
     },
     "execution_count": 209,
     "metadata": {},
     "output_type": "execute_result"
    }
   ],
   "source": [
    "table=driver.find_element(By.XPATH,'//div[@class=\"Table_table__MpfZW\"]')\n",
    "table"
   ]
  },
  {
   "cell_type": "code",
   "execution_count": 211,
   "id": "7ef14bad",
   "metadata": {},
   "outputs": [],
   "source": [
    "data = []\n",
    "tags = table.find_elements(By.XPATH,'//div[@class=\"TableRow_cell__db-hv Table_cell__houv9\"]')\n",
    "for i in tags:\n",
    "    p=i.text\n",
    "    data.append(p)\n",
    "Rank=data[0::7]\n",
    "Name=data[1::7]\n",
    "Net_worth=data[2::7]\n",
    "Age=data[3::7]\n",
    "Citizenship=data[4::7]\n",
    "Source=data[5::7]\n",
    "Industry=data[6::7]"
   ]
  },
  {
   "cell_type": "code",
   "execution_count": 212,
   "id": "11b607c8",
   "metadata": {},
   "outputs": [
    {
     "data": {
      "text/html": [
       "<div>\n",
       "<style scoped>\n",
       "    .dataframe tbody tr th:only-of-type {\n",
       "        vertical-align: middle;\n",
       "    }\n",
       "\n",
       "    .dataframe tbody tr th {\n",
       "        vertical-align: top;\n",
       "    }\n",
       "\n",
       "    .dataframe thead th {\n",
       "        text-align: right;\n",
       "    }\n",
       "</style>\n",
       "<table border=\"1\" class=\"dataframe\">\n",
       "  <thead>\n",
       "    <tr style=\"text-align: right;\">\n",
       "      <th></th>\n",
       "      <th>Rank</th>\n",
       "      <th>Name</th>\n",
       "      <th>Net worth</th>\n",
       "      <th>Age</th>\n",
       "      <th>Citizenship</th>\n",
       "      <th>Source</th>\n",
       "      <th>Industry</th>\n",
       "    </tr>\n",
       "  </thead>\n",
       "  <tbody>\n",
       "    <tr>\n",
       "      <th>0</th>\n",
       "      <td>2133</td>\n",
       "      <td>A. Jayson Adair</td>\n",
       "      <td>$1.3 B</td>\n",
       "      <td>53</td>\n",
       "      <td>United States</td>\n",
       "      <td></td>\n",
       "      <td></td>\n",
       "    </tr>\n",
       "    <tr>\n",
       "      <th>1</th>\n",
       "      <td>1272</td>\n",
       "      <td>Abdulla Al Futtaim &amp; family</td>\n",
       "      <td>$2.4 B</td>\n",
       "      <td>83</td>\n",
       "      <td>United Arab Emirates</td>\n",
       "      <td></td>\n",
       "      <td></td>\n",
       "    </tr>\n",
       "    <tr>\n",
       "      <th>2</th>\n",
       "      <td>982</td>\n",
       "      <td>Abdulla bin Ahmad Al Ghurair &amp; family</td>\n",
       "      <td>$3 B</td>\n",
       "      <td>N/A</td>\n",
       "      <td>United Arab Emirates</td>\n",
       "      <td></td>\n",
       "      <td></td>\n",
       "    </tr>\n",
       "    <tr>\n",
       "      <th>3</th>\n",
       "      <td>249</td>\n",
       "      <td>Abdulsamad Rabiu</td>\n",
       "      <td>$8.2 B</td>\n",
       "      <td>62</td>\n",
       "      <td>Nigeria</td>\n",
       "      <td></td>\n",
       "      <td></td>\n",
       "    </tr>\n",
       "    <tr>\n",
       "      <th>4</th>\n",
       "      <td>1104</td>\n",
       "      <td>Abhay Firodia</td>\n",
       "      <td>$2.7 B</td>\n",
       "      <td>78</td>\n",
       "      <td>India</td>\n",
       "      <td></td>\n",
       "      <td></td>\n",
       "    </tr>\n",
       "    <tr>\n",
       "      <th>...</th>\n",
       "      <td>...</td>\n",
       "      <td>...</td>\n",
       "      <td>...</td>\n",
       "      <td>...</td>\n",
       "      <td>...</td>\n",
       "      <td>...</td>\n",
       "      <td>...</td>\n",
       "    </tr>\n",
       "    <tr>\n",
       "      <th>195</th>\n",
       "      <td>2259</td>\n",
       "      <td>Balkrishan Goenka</td>\n",
       "      <td>$1.2 B</td>\n",
       "      <td>56</td>\n",
       "      <td>India</td>\n",
       "      <td></td>\n",
       "      <td></td>\n",
       "    </tr>\n",
       "    <tr>\n",
       "      <th>196</th>\n",
       "      <td>1647</td>\n",
       "      <td>Bambang Sutantio</td>\n",
       "      <td>$1.8 B</td>\n",
       "      <td>64</td>\n",
       "      <td>Indonesia</td>\n",
       "      <td></td>\n",
       "      <td></td>\n",
       "    </tr>\n",
       "    <tr>\n",
       "      <th>197</th>\n",
       "      <td>1725</td>\n",
       "      <td>Bang Si-hyuk</td>\n",
       "      <td>$1.7 B</td>\n",
       "      <td>50</td>\n",
       "      <td>South Korea</td>\n",
       "      <td></td>\n",
       "      <td></td>\n",
       "    </tr>\n",
       "    <tr>\n",
       "      <th>198</th>\n",
       "      <td>2133</td>\n",
       "      <td>Banwari Lal Bawri</td>\n",
       "      <td>$1.3 B</td>\n",
       "      <td>70</td>\n",
       "      <td>India</td>\n",
       "      <td></td>\n",
       "      <td></td>\n",
       "    </tr>\n",
       "    <tr>\n",
       "      <th>199</th>\n",
       "      <td>1905</td>\n",
       "      <td>Barbara Benetton</td>\n",
       "      <td>$1.5 B</td>\n",
       "      <td>53</td>\n",
       "      <td>Italy</td>\n",
       "      <td></td>\n",
       "      <td></td>\n",
       "    </tr>\n",
       "  </tbody>\n",
       "</table>\n",
       "<p>200 rows × 7 columns</p>\n",
       "</div>"
      ],
      "text/plain": [
       "     Rank                                   Name Net worth  Age  \\\n",
       "0    2133                        A. Jayson Adair    $1.3 B   53   \n",
       "1    1272            Abdulla Al Futtaim & family    $2.4 B   83   \n",
       "2     982  Abdulla bin Ahmad Al Ghurair & family      $3 B  N/A   \n",
       "3     249                       Abdulsamad Rabiu    $8.2 B   62   \n",
       "4    1104                          Abhay Firodia    $2.7 B   78   \n",
       "..    ...                                    ...       ...  ...   \n",
       "195  2259                      Balkrishan Goenka    $1.2 B   56   \n",
       "196  1647                       Bambang Sutantio    $1.8 B   64   \n",
       "197  1725                           Bang Si-hyuk    $1.7 B   50   \n",
       "198  2133                      Banwari Lal Bawri    $1.3 B   70   \n",
       "199  1905                       Barbara Benetton    $1.5 B   53   \n",
       "\n",
       "              Citizenship Source Industry  \n",
       "0           United States                  \n",
       "1    United Arab Emirates                  \n",
       "2    United Arab Emirates                  \n",
       "3                 Nigeria                  \n",
       "4                   India                  \n",
       "..                    ...    ...      ...  \n",
       "195                 India                  \n",
       "196             Indonesia                  \n",
       "197           South Korea                  \n",
       "198                 India                  \n",
       "199                 Italy                  \n",
       "\n",
       "[200 rows x 7 columns]"
      ]
     },
     "execution_count": 212,
     "metadata": {},
     "output_type": "execute_result"
    }
   ],
   "source": [
    "df8=pd.DataFrame({\"Rank\":Rank, \"Name\":Name, \"Net worth\":Net_worth, \"Age\":Age, \"Citizenship\":Citizenship, \"Source\":Source, \"Industry\":Industry})\n",
    "df8"
   ]
  },
  {
   "cell_type": "code",
   "execution_count": null,
   "id": "13b0814b",
   "metadata": {},
   "outputs": [],
   "source": []
  },
  {
   "cell_type": "markdown",
   "id": "790b7552",
   "metadata": {},
   "source": [
    "9. Write a program to extract at least 500 Comments, Comment upvote and time when comment was posted \n",
    "from any YouTube Video"
   ]
  },
  {
   "cell_type": "code",
   "execution_count": 149,
   "id": "2def9597",
   "metadata": {},
   "outputs": [],
   "source": [
    "driver=webdriver.Chrome(r\"chromedriver.exe\")\n",
    "driver.get('https://www.youtube.com')"
   ]
  },
  {
   "cell_type": "code",
   "execution_count": 150,
   "id": "c9046588",
   "metadata": {},
   "outputs": [],
   "source": [
    "video=driver.find_element(By.XPATH,'/html/body/ytd-app/div[1]/ytd-page-manager/ytd-browse/ytd-two-column-browse-results-renderer/div[1]/ytd-rich-grid-renderer/div[6]/ytd-rich-grid-row[2]/div/ytd-rich-item-renderer[1]/div/ytd-rich-grid-media/div[1]/ytd-thumbnail/a/yt-image/img')\n",
    "video.click()"
   ]
  },
  {
   "cell_type": "code",
   "execution_count": 151,
   "id": "085f5a6e",
   "metadata": {},
   "outputs": [],
   "source": [
    "comments=[]\n",
    "for _ in range(500):\n",
    "    driver.execute_script('window.scrollBy(0,1000)')\n",
    "comment = driver.find_elements(By.XPATH,'//div[@class=\"style-scope ytd-expander\"]')\n",
    "for com in comment:\n",
    "    comments.append(com.text)"
   ]
  },
  {
   "cell_type": "code",
   "execution_count": 152,
   "id": "e7e0853e",
   "metadata": {},
   "outputs": [
    {
     "data": {
      "text/plain": [
       "['',\n",
       " 'WE HOPE YOU LIKED THE FIRST SONG OF THE ALBUM\\nLIKE | COMMENT | SHARE',\n",
       " 'Awesome voice ️\\u200d',\n",
       " \"No one can match the level of jaani's lyrics and b praak's voice\",\n",
       " \"It's a reality of today ... In really this song is very emotional ...Thanks to B Praak , AK Sir for this song \",\n",
       " 'Akshay kumar our childhood hero\\n90s \\nWe love him as legendary actors amongst all in bollywood',\n",
       " 'Lyrics written from heart.',\n",
       " 'Always fan of this voice ️️',\n",
       " 'Akshay sir is the best , kya act Kiya he sir ne ',\n",
       " \"Words can't describe how amazing this track is.\",\n",
       " 'The reason why music is so powerful is because it shapes deep connections with our emotions. When you’re enjoying yourself and have a great time, you may subconsciously link your feelings to a song that perfectly describes how you feel. When you listen to that song some years later, it will likely elicit the very same emotions you felt back then.',\n",
       " 'This song will be liked by all those who have been cheated, and their girlfriend has cheated seeing money and colors.  I was inspired a lot by this song….It makes me feel relaxed after listening to such songs…Thanks B. Praak and my favorite superstar Akki sir.',\n",
       " 'Amazing lyrics️b prak voice  such a master piece',\n",
       " 'Wowww nice ',\n",
       " 'This song and music is next level The pain is next level \\nAk +BP +Jaani = Medicine for Heart ',\n",
       " 'First of all great work by everyone\\nGreat work by Jaani, B praak and all other soulful artist....\\nI liked the moment when Akshay sir as a artist was performing but at first no one was paying good attention but when he dwelled into the feelings by looking at her then goosebumps, the show went crazy ',\n",
       " 'Extraordinary mind blowing song ',\n",
       " \"The biggest combination of bollywood song with b praak  voice and akshay kumar's acting \\nLove From Pakistan\",\n",
       " \"Just the words and melody - that's what moves your emotions.\",\n",
       " 'Only Akki paji can perform this song love you Truly a MASTERPIECE ',\n",
       " \"This is not a song, its an entertainment for those who had faced enough in #LOVE, and a Slap to those who didn't valued the feelings of someone ️ Jaani ️\",\n",
       " '']"
      ]
     },
     "execution_count": 152,
     "metadata": {},
     "output_type": "execute_result"
    }
   ],
   "source": [
    "comments"
   ]
  },
  {
   "cell_type": "code",
   "execution_count": 154,
   "id": "bef5dba3",
   "metadata": {},
   "outputs": [
    {
     "ename": "StaleElementReferenceException",
     "evalue": "Message: stale element reference: stale element not found\n  (Session info: chrome=113.0.5672.127)\nStacktrace:\nBacktrace:\n\tGetHandleVerifier [0x00AC8893+48451]\n\t(No symbol) [0x00A5B8A1]\n\t(No symbol) [0x00965058]\n\t(No symbol) [0x009683F1]\n\t(No symbol) [0x00969631]\n\t(No symbol) [0x009696D0]\n\t(No symbol) [0x0098CE4D]\n\t(No symbol) [0x009AA2BC]\n\t(No symbol) [0x00989586]\n\t(No symbol) [0x009AA614]\n\t(No symbol) [0x009BC482]\n\t(No symbol) [0x009AA0B6]\n\t(No symbol) [0x00987E08]\n\t(No symbol) [0x00988F2D]\n\tGetHandleVerifier [0x00D28E3A+2540266]\n\tGetHandleVerifier [0x00D68959+2801161]\n\tGetHandleVerifier [0x00D6295C+2776588]\n\tGetHandleVerifier [0x00B52280+612144]\n\t(No symbol) [0x00A64F6C]\n\t(No symbol) [0x00A611D8]\n\t(No symbol) [0x00A612BB]\n\t(No symbol) [0x00A54857]\n\tBaseThreadInitThunk [0x76877D59+25]\n\tRtlInitializeExceptionChain [0x77D9B74B+107]\n\tRtlClearBits [0x77D9B6CF+191]\n",
     "output_type": "error",
     "traceback": [
      "\u001b[1;31m---------------------------------------------------------------------------\u001b[0m",
      "\u001b[1;31mStaleElementReferenceException\u001b[0m            Traceback (most recent call last)",
      "Input \u001b[1;32mIn [154]\u001b[0m, in \u001b[0;36m<cell line: 5>\u001b[1;34m()\u001b[0m\n\u001b[0;32m      4\u001b[0m comments \u001b[38;5;241m=\u001b[39m driver\u001b[38;5;241m.\u001b[39mfind_elements(By\u001b[38;5;241m.\u001b[39mXPATH,\u001b[38;5;124m'\u001b[39m\u001b[38;5;124m//div[@class=\u001b[39m\u001b[38;5;124m\"\u001b[39m\u001b[38;5;124mstyle-scope ytd-comment-action-buttons-renderer\u001b[39m\u001b[38;5;124m\"\u001b[39m\u001b[38;5;124m]\u001b[39m\u001b[38;5;124m'\u001b[39m)\n\u001b[0;32m      5\u001b[0m \u001b[38;5;28;01mfor\u001b[39;00m com \u001b[38;5;129;01min\u001b[39;00m comments:\n\u001b[1;32m----> 6\u001b[0m     comment_upvote\u001b[38;5;241m.\u001b[39mappend(\u001b[43mcom\u001b[49m\u001b[38;5;241;43m.\u001b[39;49m\u001b[43mtext\u001b[49m)\n",
      "File \u001b[1;32m~\\anaconda3\\lib\\site-packages\\selenium\\webdriver\\remote\\webelement.py:90\u001b[0m, in \u001b[0;36mWebElement.text\u001b[1;34m(self)\u001b[0m\n\u001b[0;32m     87\u001b[0m \u001b[38;5;129m@property\u001b[39m\n\u001b[0;32m     88\u001b[0m \u001b[38;5;28;01mdef\u001b[39;00m \u001b[38;5;21mtext\u001b[39m(\u001b[38;5;28mself\u001b[39m) \u001b[38;5;241m-\u001b[39m\u001b[38;5;241m>\u001b[39m \u001b[38;5;28mstr\u001b[39m:\n\u001b[0;32m     89\u001b[0m     \u001b[38;5;124;03m\"\"\"The text of the element.\"\"\"\u001b[39;00m\n\u001b[1;32m---> 90\u001b[0m     \u001b[38;5;28;01mreturn\u001b[39;00m \u001b[38;5;28;43mself\u001b[39;49m\u001b[38;5;241;43m.\u001b[39;49m\u001b[43m_execute\u001b[49m\u001b[43m(\u001b[49m\u001b[43mCommand\u001b[49m\u001b[38;5;241;43m.\u001b[39;49m\u001b[43mGET_ELEMENT_TEXT\u001b[49m\u001b[43m)\u001b[49m[\u001b[38;5;124m\"\u001b[39m\u001b[38;5;124mvalue\u001b[39m\u001b[38;5;124m\"\u001b[39m]\n",
      "File \u001b[1;32m~\\anaconda3\\lib\\site-packages\\selenium\\webdriver\\remote\\webelement.py:403\u001b[0m, in \u001b[0;36mWebElement._execute\u001b[1;34m(self, command, params)\u001b[0m\n\u001b[0;32m    401\u001b[0m     params \u001b[38;5;241m=\u001b[39m {}\n\u001b[0;32m    402\u001b[0m params[\u001b[38;5;124m\"\u001b[39m\u001b[38;5;124mid\u001b[39m\u001b[38;5;124m\"\u001b[39m] \u001b[38;5;241m=\u001b[39m \u001b[38;5;28mself\u001b[39m\u001b[38;5;241m.\u001b[39m_id\n\u001b[1;32m--> 403\u001b[0m \u001b[38;5;28;01mreturn\u001b[39;00m \u001b[38;5;28;43mself\u001b[39;49m\u001b[38;5;241;43m.\u001b[39;49m\u001b[43m_parent\u001b[49m\u001b[38;5;241;43m.\u001b[39;49m\u001b[43mexecute\u001b[49m\u001b[43m(\u001b[49m\u001b[43mcommand\u001b[49m\u001b[43m,\u001b[49m\u001b[43m \u001b[49m\u001b[43mparams\u001b[49m\u001b[43m)\u001b[49m\n",
      "File \u001b[1;32m~\\anaconda3\\lib\\site-packages\\selenium\\webdriver\\remote\\webdriver.py:440\u001b[0m, in \u001b[0;36mWebDriver.execute\u001b[1;34m(self, driver_command, params)\u001b[0m\n\u001b[0;32m    438\u001b[0m response \u001b[38;5;241m=\u001b[39m \u001b[38;5;28mself\u001b[39m\u001b[38;5;241m.\u001b[39mcommand_executor\u001b[38;5;241m.\u001b[39mexecute(driver_command, params)\n\u001b[0;32m    439\u001b[0m \u001b[38;5;28;01mif\u001b[39;00m response:\n\u001b[1;32m--> 440\u001b[0m     \u001b[38;5;28;43mself\u001b[39;49m\u001b[38;5;241;43m.\u001b[39;49m\u001b[43merror_handler\u001b[49m\u001b[38;5;241;43m.\u001b[39;49m\u001b[43mcheck_response\u001b[49m\u001b[43m(\u001b[49m\u001b[43mresponse\u001b[49m\u001b[43m)\u001b[49m\n\u001b[0;32m    441\u001b[0m     response[\u001b[38;5;124m\"\u001b[39m\u001b[38;5;124mvalue\u001b[39m\u001b[38;5;124m\"\u001b[39m] \u001b[38;5;241m=\u001b[39m \u001b[38;5;28mself\u001b[39m\u001b[38;5;241m.\u001b[39m_unwrap_value(response\u001b[38;5;241m.\u001b[39mget(\u001b[38;5;124m\"\u001b[39m\u001b[38;5;124mvalue\u001b[39m\u001b[38;5;124m\"\u001b[39m, \u001b[38;5;28;01mNone\u001b[39;00m))\n\u001b[0;32m    442\u001b[0m     \u001b[38;5;28;01mreturn\u001b[39;00m response\n",
      "File \u001b[1;32m~\\anaconda3\\lib\\site-packages\\selenium\\webdriver\\remote\\errorhandler.py:245\u001b[0m, in \u001b[0;36mErrorHandler.check_response\u001b[1;34m(self, response)\u001b[0m\n\u001b[0;32m    243\u001b[0m         alert_text \u001b[38;5;241m=\u001b[39m value[\u001b[38;5;124m\"\u001b[39m\u001b[38;5;124malert\u001b[39m\u001b[38;5;124m\"\u001b[39m]\u001b[38;5;241m.\u001b[39mget(\u001b[38;5;124m\"\u001b[39m\u001b[38;5;124mtext\u001b[39m\u001b[38;5;124m\"\u001b[39m)\n\u001b[0;32m    244\u001b[0m     \u001b[38;5;28;01mraise\u001b[39;00m exception_class(message, screen, stacktrace, alert_text)  \u001b[38;5;66;03m# type: ignore[call-arg]  # mypy is not smart enough here\u001b[39;00m\n\u001b[1;32m--> 245\u001b[0m \u001b[38;5;28;01mraise\u001b[39;00m exception_class(message, screen, stacktrace)\n",
      "\u001b[1;31mStaleElementReferenceException\u001b[0m: Message: stale element reference: stale element not found\n  (Session info: chrome=113.0.5672.127)\nStacktrace:\nBacktrace:\n\tGetHandleVerifier [0x00AC8893+48451]\n\t(No symbol) [0x00A5B8A1]\n\t(No symbol) [0x00965058]\n\t(No symbol) [0x009683F1]\n\t(No symbol) [0x00969631]\n\t(No symbol) [0x009696D0]\n\t(No symbol) [0x0098CE4D]\n\t(No symbol) [0x009AA2BC]\n\t(No symbol) [0x00989586]\n\t(No symbol) [0x009AA614]\n\t(No symbol) [0x009BC482]\n\t(No symbol) [0x009AA0B6]\n\t(No symbol) [0x00987E08]\n\t(No symbol) [0x00988F2D]\n\tGetHandleVerifier [0x00D28E3A+2540266]\n\tGetHandleVerifier [0x00D68959+2801161]\n\tGetHandleVerifier [0x00D6295C+2776588]\n\tGetHandleVerifier [0x00B52280+612144]\n\t(No symbol) [0x00A64F6C]\n\t(No symbol) [0x00A611D8]\n\t(No symbol) [0x00A612BB]\n\t(No symbol) [0x00A54857]\n\tBaseThreadInitThunk [0x76877D59+25]\n\tRtlInitializeExceptionChain [0x77D9B74B+107]\n\tRtlClearBits [0x77D9B6CF+191]\n"
     ]
    }
   ],
   "source": [
    "comment_upvote=[]\n",
    "for _ in range(500):\n",
    "    driver.execute_script('window.scrollBy(0,1000)')\n",
    "comments = driver.find_elements(By.XPATH,'//div[@class=\"style-scope ytd-comment-action-buttons-renderer\"]')\n",
    "for com in comments:\n",
    "    comment_upvote.append(com.text)"
   ]
  },
  {
   "cell_type": "code",
   "execution_count": 39,
   "id": "138d522a",
   "metadata": {},
   "outputs": [
    {
     "data": {
      "text/plain": [
       "[]"
      ]
     },
     "execution_count": 39,
     "metadata": {},
     "output_type": "execute_result"
    }
   ],
   "source": [
    "comment_upvote"
   ]
  },
  {
   "cell_type": "markdown",
   "id": "0563248f",
   "metadata": {},
   "source": [
    "10. Write a python program to scrape a data for all available Hostels from https://www.hostelworld.com/ in \n",
    "“London” location. You have to scrape hostel name, distance from city centre, ratings, total reviews, \n",
    "overall reviews, privates from price, dorms from price, facilities and property description"
   ]
  },
  {
   "cell_type": "code",
   "execution_count": 187,
   "id": "fba0d612",
   "metadata": {},
   "outputs": [],
   "source": [
    "driver=webdriver.Chrome(r\"chromedriver.exe\")\n",
    "driver.get('https://www.hostelworld.com')"
   ]
  },
  {
   "cell_type": "code",
   "execution_count": 191,
   "id": "f1dfa0a1",
   "metadata": {},
   "outputs": [],
   "source": [
    "location=driver.find_element(By.XPATH,'/html/body/div[3]/div/div/div[2]/div[2]/div/div/div[4]/div/div[2]/div/div[1]/div/div/div/input')\n",
    "location.send_keys('London')"
   ]
  },
  {
   "cell_type": "code",
   "execution_count": 192,
   "id": "1aaab86c",
   "metadata": {},
   "outputs": [],
   "source": [
    "search=driver.find_element(By.XPATH,'/html/body/div[3]/div/div/div[2]/div[2]/div/div/div[4]/div/div[2]/div/div[1]/div/div/ul/li[4]')\n",
    "search.click()"
   ]
  },
  {
   "cell_type": "code",
   "execution_count": 193,
   "id": "dc8b8fae",
   "metadata": {},
   "outputs": [],
   "source": [
    "go=driver.find_element(By.XPATH,'/html/body/div[3]/div/div/div[2]/div[2]/div/div/div[4]/div/div[2]/div/div[5]/button')\n",
    "go.click()"
   ]
  },
  {
   "cell_type": "code",
   "execution_count": 194,
   "id": "83742fb9",
   "metadata": {},
   "outputs": [],
   "source": [
    "LINK=[]\n",
    "DISTANCE=[]\n",
    "TOTAL_REVIEWS=[]\n",
    "OVERALL_REVIEWS=[]\n",
    "PRIVATE_PRICE=[]\n",
    "DORM_PRICE=[]\n",
    "FACILITY=[]\n",
    "PROPERTY_DESCRIPTION=[]"
   ]
  },
  {
   "cell_type": "code",
   "execution_count": 196,
   "id": "1b3e704b",
   "metadata": {},
   "outputs": [
    {
     "data": {
      "text/plain": [
       "['https://www.hostelworld.com/pwa/hosteldetails.php/Generator%20London/London/510?from=2023-05-20&to=2023-05-23&guests=2',\n",
       " \"https://www.hostelworld.com/pwa/hosteldetails.php/St%20Christopher's%20Camden/London/505?from=2023-05-20&to=2023-05-23&guests=2\",\n",
       " 'https://www.hostelworld.com/pwa/hosteldetails.php/Elmwood%20Hotel/London/34338?from=2023-05-20&to=2023-05-23&guests=2',\n",
       " 'https://www.hostelworld.com/pwa/hosteldetails.php/PubLove%20@%20The%20Exmouth%20Arms,%20Euston/London/93796?from=2023-05-20&to=2023-05-23&guests=2']"
      ]
     },
     "execution_count": 196,
     "metadata": {},
     "output_type": "execute_result"
    }
   ],
   "source": [
    "url=driver.find_elements(By.XPATH,'//a[@class=\"property-card-container horizontal\"]')\n",
    "for i in url:\n",
    "    LINK.append(i.get_attribute('href'))\n",
    "    \n",
    "LINK"
   ]
  },
  {
   "cell_type": "code",
   "execution_count": 197,
   "id": "6468e504",
   "metadata": {},
   "outputs": [
    {
     "data": {
      "text/plain": [
       "['- 3km from city centre',\n",
       " '- 4.3km from city centre',\n",
       " '- 3.2km from city centre',\n",
       " '- 3.4km from city centre']"
      ]
     },
     "execution_count": 197,
     "metadata": {},
     "output_type": "execute_result"
    }
   ],
   "source": [
    "DISTANCE=[]\n",
    "\n",
    "dist=driver.find_elements(By.XPATH,'//span[@class=\"distance-description\"]')\n",
    "for i in dist:\n",
    "    DISTANCE.append(i.text.replace('Hostel -',''))\n",
    "\n",
    "DISTANCE "
   ]
  },
  {
   "cell_type": "code",
   "execution_count": 211,
   "id": "395df0e4",
   "metadata": {},
   "outputs": [
    {
     "data": {
      "text/plain": [
       "['7.6', '7.6', '8.0', '7.0']"
      ]
     },
     "execution_count": 211,
     "metadata": {},
     "output_type": "execute_result"
    }
   ],
   "source": [
    "RATE=[]\n",
    "for i in LINK:\n",
    "    driver.get(i)\n",
    "    try:\n",
    "        rate=driver.find_element(By.XPATH,'//div[@class=\"score orange big\"]')\n",
    "        RATE.append(rate.text)\n",
    "    except NoSuchElementException :\n",
    "        RATE.append('-')\n",
    "        \n",
    "RATE"
   ]
  },
  {
   "cell_type": "code",
   "execution_count": 201,
   "id": "d6836a18",
   "metadata": {},
   "outputs": [
    {
     "data": {
      "text/plain": [
       "['7460 Total Reviews',\n",
       " '4021 Total Reviews',\n",
       " '126 Total Reviews',\n",
       " '1074 Total Reviews']"
      ]
     },
     "execution_count": 201,
     "metadata": {},
     "output_type": "execute_result"
    }
   ],
   "source": [
    "TOTAL_REVIEW=[]\n",
    "\n",
    "for i in LINK:\n",
    "    driver.get(i)\n",
    "    try:\n",
    "        Tr=driver.find_element(By.XPATH,'//div[@class=\"reviews\"]')\n",
    "        TOTAL_REVIEW.append(Tr.text)\n",
    "    except NoSuchElementException :\n",
    "        TOTAL_REVIEW.append('-')\n",
    "        \n",
    "TOTAL_REVIEW"
   ]
  },
  {
   "cell_type": "code",
   "execution_count": 212,
   "id": "7fc4613f",
   "metadata": {},
   "outputs": [
    {
     "data": {
      "text/plain": [
       "['Generator London',\n",
       " \"St Christopher's Camden\",\n",
       " 'Elmwood Hotel',\n",
       " 'PubLove @ The Exmouth Arms, Euston']"
      ]
     },
     "execution_count": 212,
     "metadata": {},
     "output_type": "execute_result"
    }
   ],
   "source": [
    "HOSTEL_NAME=[]\n",
    "for i in LINK:\n",
    "    driver.get(i)\n",
    "    try:\n",
    "        hostel=driver.find_element(By.XPATH,'//div[@class=\"title-2\"]')\n",
    "        HOSTEL_NAME.append(hostel.text)\n",
    "    except NoSuchElementException :\n",
    "        HOSTEL_NAME.append('-')\n",
    "\n",
    "HOSTEL_NAME"
   ]
  },
  {
   "cell_type": "code",
   "execution_count": 203,
   "id": "0349046b",
   "metadata": {},
   "outputs": [
    {
     "data": {
      "text/plain": [
       "['Very Good', 'Very Good', 'Fabulous', 'Very Good']"
      ]
     },
     "execution_count": 203,
     "metadata": {},
     "output_type": "execute_result"
    }
   ],
   "source": [
    "REVIEWS=[]\n",
    "for i in LINK:\n",
    "    driver.get(i)  \n",
    "    try:\n",
    "        Or=driver.find_element(By.XPATH,'//div[@class=\"keyword\"]')\n",
    "        REVIEWS.append(Or.text)\n",
    "    except NoSuchElementException :\n",
    "        REVIEWS.append('-')\n",
    "        \n",
    "REVIEWS"
   ]
  },
  {
   "cell_type": "code",
   "execution_count": 181,
   "id": "69c7e19c",
   "metadata": {},
   "outputs": [
    {
     "data": {
      "text/plain": [
       "['-', '-', '-', '-']"
      ]
     },
     "execution_count": 181,
     "metadata": {},
     "output_type": "execute_result"
    }
   ],
   "source": [
    "PRICE=[]\n",
    "for i in LINK:\n",
    "    driver.get(i)\n",
    "    try:\n",
    "        pp=driver.find_element(By.XPATH,'//div[@class=\"price\"]')\n",
    "        PRICE.append(pp.text)\n",
    "    except NoSuchElementException :\n",
    "        PRICE.append('-')\n",
    "        \n",
    "PRICE"
   ]
  },
  {
   "cell_type": "code",
   "execution_count": 219,
   "id": "fc5890e7",
   "metadata": {},
   "outputs": [
    {
     "data": {
      "text/plain": [
       "['-', '-', '-', '-']"
      ]
     },
     "execution_count": 219,
     "metadata": {},
     "output_type": "execute_result"
    }
   ],
   "source": [
    " DORM=[]\n",
    "for i in LINK:\n",
    "    driver.get(i)\n",
    "    try:\n",
    "        dp=driver.find_element(By.XPATH,'//div[@class=\"price\"]')\n",
    "        DORM.append(dp.text)    \n",
    "    except NoSuchElementException :\n",
    "        DORM.append('-')\n",
    "        \n",
    "DORM"
   ]
  },
  {
   "cell_type": "code",
   "execution_count": 209,
   "id": "d65ad933",
   "metadata": {},
   "outputs": [
    {
     "data": {
      "text/plain": [
       "[['Free\\nLinen Included Free City Maps Free WiFi Free Internet Access\\nGeneral\\nWheelchair Friendly Security Lockers Key Card Access Common Room Elevator Bicycle Parking Breakfast Not Included Meeting Rooms Hot Showers Reading Light Safe Deposit Box Card Phones Washing Machine Towels Not Included Flexible NRR Follows Covid-19 sanitation guidance\\nServices\\nInternet access Laundry Facilities Airport Transfers Bicycle Hire Towels for hire Luggage Storage 24 Hour Reception Tours/Travel Desk ATM Shuttle Bus 24 Hour Security Housekeeping Express check-in / out Late check-out Reception (limited hours)\\nFood & Drink\\nRestaurant Bar Meals Available Vending Machines Cafe\\nEntertainment\\nNightclub Board Games Games Room Pool Table Foosball Wi-Fi'],\n",
       " [\"Free\\nLinen Included Free City Maps Free WiFi Free Internet Access\\nGeneral\\nSecurity Lockers Key Card Access Common Room Breakfast Not Included Adaptors Book Exchange Dryer Cable TV Hair Dryers For Hire Washing Machine Follows Covid-19 sanitation guidance\\nServices\\nInternet access Laundry Facilities Towels for hire Luggage Storage 24 Hour Reception 24 Hour Security Housekeeping\\nFood & Drink\\nRestaurant Bar Meals Available Cafe\\nEntertainment\\nNightclub DVD's Board Games Wi-Fi\"],\n",
       " ['Free\\nFree Internet Access\\nGeneral\\nHair Dryers Safe Deposit Box\\nServices\\nAirport Transfers Luggage Storage Fax Service 24 Hour Reception Tours/Travel Desk Currency Exchange Housekeeping\\nFood & Drink\\nTea & Coffee Making Facilities'],\n",
       " ['Free\\nLinen Included Free City Maps Free WiFi\\nGeneral\\nSecurity Lockers Key Card Access Adaptors Hot Showers Outdoor Terrace Hair Dryers Iron / Ironing Board Towels Not Included Flexible NRR\\nServices\\nLuggage Storage 24 Hour Reception Tours/Travel Desk 24 Hour Security Housekeeping Late check-out\\nFood & Drink\\nRestaurant Bar Meals Available Cafe\\nEntertainment\\nBoard Games Wi-Fi']]"
      ]
     },
     "execution_count": 209,
     "metadata": {},
     "output_type": "execute_result"
    }
   ],
   "source": [
    "for i in LINK:\n",
    "    driver.get(i)\n",
    "    try:\n",
    "        facility=driver.find_element(By.XPATH,'//ul[@class=\"facility-sections\"]')\n",
    "        FACILITY.append(facility.text.split('|'))\n",
    "    except NoSuchElementException :\n",
    "        FACILITY.append('-')\n",
    "FACILITY"
   ]
  },
  {
   "cell_type": "code",
   "execution_count": 206,
   "id": "418764ab",
   "metadata": {},
   "outputs": [
    {
     "data": {
      "text/plain": [
       "[\"Generator London is a design hotel-hostel located in Russell Square in the heart of central London, a short stroll to Covent Garden, Regents Park and trendy King's Cross. Guests can choose from shared dorms to private rooms, offering something for everyone. Complete with 24-hour reception, free wifi, cafe and bar Generator is a fun and affordable choice in London.\\n\\nGenerator London was the very first Generator and you'll find it in the area of Russell Square in the heart of the West End. \\n\\nIt's the ideal spot to enjoy London from, everything you need to see is minutes away by tube. You'll never run out of things to do in the UK's capital. You just have to decide where to start and we can help you with that. When you have seen and done it all for the day head back to Generator and unwind. \\n\\nIt's a destination in its own right and a great place to socialise and reflect on your experiences of the day. Head to the bar and chill out areas to get yourself a well deserved drink or two. It's lively, friendly and un-missable. We've also got great beds for sleepy heads and of course you'll be enjoying London life in the most authentic surroundings. \\n\\nChoose from a great selection of rooms, from Dorms, to Quads, to Private rooms with innovative mod cons. Fast and free Wi-Fi is all yours too. To get the most out of your stay visit the travel shop and our city experts will help you devise an itinerary that will take you to all the hidden treasures this dynamic city has to offer. You'll have to stay longer to fit it all in but you'll not need convincing of that. We'll see you there soon.\\n\\nImportant points:\\n\\n Central location Situated close to Russell Square\\n Complimentary Wi-Fi in public areas & guest bedrooms\\n Travel Desk\\n Luggage Store\\n Laundry Room\\n Games Room\\n Bar & Chill Out Areas\\n Nightly Events & Entertainment\\n Dining facilities for breakfast, lunch, dinner and all day snacks\\n Female Dormitories\\n Dormitories for 4, 6 & 8\\n\\nGROUP BOOKINGS\\nAny reservation of 10 people or more per night will be considered a group with different terms and conditions. Groups reservations can only be made through our reservations team, and Generator reserves the right to cancel it otherwise. \\n\\nFREE WI-FI\\nStay connected. Free for all!\\n\\nTHE BAR\\nOrder a classic cocktail. Open from 5pm-2am with fun and games every night.\\n\\nTHE LOUNGE & CAFE \\nOpen everyday\\n\\nBREAKFAST\\n\\nBreakfast not included.\\nInternational breakfast available upon request: 9.50 (GBP) per adult and from 3.95 (GBP) per child\\nMon - Fri from 7 to 10 a.m.\\nWeekend 8 to 11 a.m.\\n\\nDINNER. \\nDelicious meals available between 5-9pm every evening. A dish of the day will also be available together with the bar snack menu.\\n\\nSNACKS\\nVending machines available for night owls to satisfy the midnight munchies.\\n\\nROOMS TO AMAZE\\nA wide selection of contemporary Privates, Twins, Triples & Dorms, with crisp white linen all available at great rates. Towels included complimentary in Twin rooms only.\\n\\nBATHROOMS\\nShared showers on every floor. \\n\\nLAUNDRY\\nOpen 24 hours a day where you can wash, dry and iron for a small fee.\\n\\n24 HOUR RECEPTION\\nNo need to worry about arriving late or early. The Generator Reception is open 24 hours a day with a duty manager who's always around to help.\\n\\nLUGGAGE STORE\\nSecure luggage room is available so you can sightsee without dragging your bag with you.\\n\\nPETS\\nWe would welcome a dog on property but only when staying in a private room/dorm, and subject to a fee per dog per Stay. Only Dog under 75lbs./ 34kg.\\n\\nGREAT STAFF\\nAll our staff are multi lingual and on hand to help you with whatever info you need.\\n\\nTRAVEL SHOP\\nPurchase tickets, tours and a whole lot more including phone and postal service. We will help you make the most of your stay. Undecided? Take advantage of our complimentary guided walking tour available daily.\\n\\nUnfortunately guests under the age of 18 are not allowed to stay in the dorms .\\n\\nWe look forward to giving you a warm welcome to The Generator in the near future.\",\n",
       " \"Find our Camden hostel in London's north, smack bang in the middle of one of the city's coolest neighbourhoods. Camden is covered with some of the world's best street art plus its live music scene is iconic. Just a short walk from St Christopher's is the famous Camden Market serving up some of the best street food in London as well as vintage clothes, antiques and loads more. Once you're done exploring the local attractions, head to Belushi's where you'll meet other travellers while rockin' out to live bands or taking part in a daily pub crawl! \\n\\nSome of London's most famous live music venues are just a couple of minutes walk from our hostel. We also have Regents Park and Primrose Hill just a stone's throw away so you can benefit from seeing two different sides of the city within a few minutes. \\nThere is a continental breakfast available every morning for just £5 a day which can be purchased at reception.on arrival.\\n\\n*Please note that we require an in date government approved - drivers license, passport or national ID card at check-in.\\n\\n**Guests under the age of 18 must stay in a private room with guardians. They cannot share in general dormitory rooms with people who are not part of their own group or family. Under-18s are not allowed in the bars or pubs.\\n\\n***Please note: non-refundable reservations will be fully charged at the time of booking.\",\n",
       " 'This central London hotel just 2-minutes from Kings Cross rail station, offering well-maintained reliable facilities and an attentive, professional service. \\n \\nCompact, practical rooms with standard interior design throughout, complement excellent public transport links with tube, bus, taxi and regional rail links to every essential London destination on your doorstep. Brand new decorated and fully refurbished recently.\\n\\nA short stroll from the British Museum and fashionable Bloomsbury, this hotel is a convenient, welcoming location for your London trip, be it for business or pleasure.',\n",
       " 'Do Camden by day and curb side beers by night. \\nThe Exmouth Arms is an iconic Hostel-Pub situated in the Camden corner of London. Explore the punk mecca from PubLove’s base in the heart of Kings Cross & Camden Town. On a sunny day the street outside is ﬁlled with the best afternoon drinkers in the city. We have plenty of shelter, so we never stop for the great British weather. This place is a backpacking institution.\\nPerfect for travellers wanting to experience the alternative side of London\\n\\nLegendary London adventures start at PubLove.\\nAll our Hostel-Pubs are welcoming, small and social - the perfect places to get to know your fellow travellers. The best thing about staying with us? Your common room is the great British pub! We have 24hr bars specialising in craft beer & gin. Get social with the locals or swap stories over a drink with your fellow backpackers.\\n\\nOur dorms are modern, cool and spotlessly clean. Our bunks have hygiene/privacy screens, dedicated power sockets, great free Wi-Fi and crisp white linen. Our top-class washrooms are private and offer shampoo, shower gel and plenty of hot water.\\n\\nEvery Hostel-Pub has an award-winning Burger Craft kitchen serving up burgers, loaded fries and brunch, with vegetarian and vegan options. They open daily from 9am until 10pm.\\n\\nBOOK NOW to start your own London adventure.']"
      ]
     },
     "execution_count": 206,
     "metadata": {},
     "output_type": "execute_result"
    }
   ],
   "source": [
    "for i in LINK:\n",
    "    driver.get(i)\n",
    "    \n",
    "    try:\n",
    "        properties=driver.find_element(By.XPATH,'//div[@class=\"content collapse-content\"]')\n",
    "        PROPERTY_DESCRIPTION.append(properties.text)\n",
    "    except NoSuchElementException :\n",
    "        PROPERTY_DESCRIPTION.append('-')\n",
    "        \n",
    "PROPERTY_DESCRIPTION"
   ]
  },
  {
   "cell_type": "code",
   "execution_count": 220,
   "id": "992647dc",
   "metadata": {},
   "outputs": [
    {
     "name": "stdout",
     "output_type": "stream",
     "text": [
      "4 4 4 4 4 4 4 4 4\n"
     ]
    }
   ],
   "source": [
    "print(len(PROPERTY_DESCRIPTION),len(FACILITY),len(DORM),len(PRICE),len(REVIEWS),len(HOSTEL_NAME),len(TOTAL_REVIEW),len(RATE),len(DISTANCE))\n"
   ]
  },
  {
   "cell_type": "code",
   "execution_count": 221,
   "id": "b1151dd4",
   "metadata": {},
   "outputs": [
    {
     "data": {
      "text/html": [
       "<div>\n",
       "<style scoped>\n",
       "    .dataframe tbody tr th:only-of-type {\n",
       "        vertical-align: middle;\n",
       "    }\n",
       "\n",
       "    .dataframe tbody tr th {\n",
       "        vertical-align: top;\n",
       "    }\n",
       "\n",
       "    .dataframe thead th {\n",
       "        text-align: right;\n",
       "    }\n",
       "</style>\n",
       "<table border=\"1\" class=\"dataframe\">\n",
       "  <thead>\n",
       "    <tr style=\"text-align: right;\">\n",
       "      <th></th>\n",
       "      <th>HOSTEL_NAMES</th>\n",
       "      <th>RATINGS</th>\n",
       "      <th>DISTANCE FROM CITI CENTER</th>\n",
       "      <th>PRIVATE PRICE</th>\n",
       "      <th>DORM PRICE</th>\n",
       "      <th>OVERALL REVIEWS</th>\n",
       "      <th>TOTAL REVIEWS</th>\n",
       "      <th>FACILITIES</th>\n",
       "      <th>PROPERTY DESCRIPTION</th>\n",
       "    </tr>\n",
       "  </thead>\n",
       "  <tbody>\n",
       "    <tr>\n",
       "      <th>0</th>\n",
       "      <td>Generator London</td>\n",
       "      <td>7.6</td>\n",
       "      <td>- 3km from city centre</td>\n",
       "      <td>-</td>\n",
       "      <td>-</td>\n",
       "      <td>Very Good</td>\n",
       "      <td>7460 Total Reviews</td>\n",
       "      <td>[Free\\nLinen Included Free City Maps Free WiFi...</td>\n",
       "      <td>Generator London is a design hotel-hostel loca...</td>\n",
       "    </tr>\n",
       "    <tr>\n",
       "      <th>1</th>\n",
       "      <td>St Christopher's Camden</td>\n",
       "      <td>7.6</td>\n",
       "      <td>- 4.3km from city centre</td>\n",
       "      <td>-</td>\n",
       "      <td>-</td>\n",
       "      <td>Very Good</td>\n",
       "      <td>4021 Total Reviews</td>\n",
       "      <td>[Free\\nLinen Included Free City Maps Free WiFi...</td>\n",
       "      <td>Find our Camden hostel in London's north, smac...</td>\n",
       "    </tr>\n",
       "    <tr>\n",
       "      <th>2</th>\n",
       "      <td>Elmwood Hotel</td>\n",
       "      <td>8.0</td>\n",
       "      <td>- 3.2km from city centre</td>\n",
       "      <td>-</td>\n",
       "      <td>-</td>\n",
       "      <td>Fabulous</td>\n",
       "      <td>126 Total Reviews</td>\n",
       "      <td>[Free\\nFree Internet Access\\nGeneral\\nHair Dry...</td>\n",
       "      <td>This central London hotel just 2-minutes from ...</td>\n",
       "    </tr>\n",
       "    <tr>\n",
       "      <th>3</th>\n",
       "      <td>PubLove @ The Exmouth Arms, Euston</td>\n",
       "      <td>7.0</td>\n",
       "      <td>- 3.4km from city centre</td>\n",
       "      <td>-</td>\n",
       "      <td>-</td>\n",
       "      <td>Very Good</td>\n",
       "      <td>1074 Total Reviews</td>\n",
       "      <td>[Free\\nLinen Included Free City Maps Free WiFi...</td>\n",
       "      <td>Do Camden by day and curb side beers by night....</td>\n",
       "    </tr>\n",
       "  </tbody>\n",
       "</table>\n",
       "</div>"
      ],
      "text/plain": [
       "                         HOSTEL_NAMES RATINGS DISTANCE FROM CITI CENTER  \\\n",
       "0                    Generator London     7.6    - 3km from city centre   \n",
       "1             St Christopher's Camden     7.6  - 4.3km from city centre   \n",
       "2                       Elmwood Hotel     8.0  - 3.2km from city centre   \n",
       "3  PubLove @ The Exmouth Arms, Euston     7.0  - 3.4km from city centre   \n",
       "\n",
       "  PRIVATE PRICE DORM PRICE OVERALL REVIEWS       TOTAL REVIEWS  \\\n",
       "0             -          -       Very Good  7460 Total Reviews   \n",
       "1             -          -       Very Good  4021 Total Reviews   \n",
       "2             -          -        Fabulous   126 Total Reviews   \n",
       "3             -          -       Very Good  1074 Total Reviews   \n",
       "\n",
       "                                          FACILITIES  \\\n",
       "0  [Free\\nLinen Included Free City Maps Free WiFi...   \n",
       "1  [Free\\nLinen Included Free City Maps Free WiFi...   \n",
       "2  [Free\\nFree Internet Access\\nGeneral\\nHair Dry...   \n",
       "3  [Free\\nLinen Included Free City Maps Free WiFi...   \n",
       "\n",
       "                                PROPERTY DESCRIPTION  \n",
       "0  Generator London is a design hotel-hostel loca...  \n",
       "1  Find our Camden hostel in London's north, smac...  \n",
       "2  This central London hotel just 2-minutes from ...  \n",
       "3  Do Camden by day and curb side beers by night....  "
      ]
     },
     "execution_count": 221,
     "metadata": {},
     "output_type": "execute_result"
    }
   ],
   "source": [
    "import pandas as pd\n",
    "df_10=pd.DataFrame({'HOSTEL_NAMES':HOSTEL_NAME,'RATINGS':RATE,'DISTANCE FROM CITI CENTER':DISTANCE,'PRIVATE PRICE':PRICE,'DORM PRICE':DORM,'OVERALL REVIEWS':REVIEWS,'TOTAL REVIEWS':TOTAL_REVIEW,'FACILITIES':FACILITY,'PROPERTY DESCRIPTION':PROPERTY_DESCRIPTION})\n",
    "df_10"
   ]
  },
  {
   "cell_type": "code",
   "execution_count": null,
   "id": "059e895b",
   "metadata": {},
   "outputs": [],
   "source": []
  }
 ],
 "metadata": {
  "kernelspec": {
   "display_name": "Python 3 (ipykernel)",
   "language": "python",
   "name": "python3"
  },
  "language_info": {
   "codemirror_mode": {
    "name": "ipython",
    "version": 3
   },
   "file_extension": ".py",
   "mimetype": "text/x-python",
   "name": "python",
   "nbconvert_exporter": "python",
   "pygments_lexer": "ipython3",
   "version": "3.9.12"
  }
 },
 "nbformat": 4,
 "nbformat_minor": 5
}
